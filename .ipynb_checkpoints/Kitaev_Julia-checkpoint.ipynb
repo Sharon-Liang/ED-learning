{
 "cells": [
  {
   "cell_type": "markdown",
   "metadata": {},
   "source": [
    "Julia code for Kitaev model.\n",
    "\\section{Kitaev model without symmetry}"
   ]
  },
  {
   "cell_type": "code",
   "execution_count": 5,
   "metadata": {
    "code_folding": [
     4,
     15,
     27,
     42,
     53
    ]
   },
   "outputs": [
    {
     "data": {
      "text/plain": [
       "KitaevRhom (generic function with 1 method)"
      ]
     },
     "execution_count": 5,
     "metadata": {},
     "output_type": "execute_result"
    }
   ],
   "source": [
    "using SparseArrays\n",
    "using Arpack\n",
    "using BenchmarkTools\n",
    "\n",
    "function index(N1::Int, N2::Int, c::Int, r::Int, atom::Int)\n",
    "    #Calculate the index of the atoms in the (r,c) unit cell\n",
    "    #A-sublattice atom = 0; B-subkattice: atom = 1\n",
    "    c = (c + N1) % N1 \n",
    "    r = (r + N2) % N2 \n",
    "    #println(\"(\",r,\",\",c,\")\")\n",
    "    n = r * N1 + c\n",
    "    ind = 2 * n + 1 + atom\n",
    "    return ind\n",
    "end\n",
    "\n",
    "function bits(tag::Int,i::Int, N1::Int, N2::Int)\n",
    "    # Chenck the i-th element of the binary representation of tag\n",
    "    SiteNum  = N1 * N2 * 2\n",
    "    mask = 2^(SiteNum - i)\n",
    "    n = tag & mask\n",
    "    if n == mask\n",
    "        return 1\n",
    "    else\n",
    "        return 0\n",
    "    end\n",
    "end\n",
    "    \n",
    "function StateConfig(tag::Int, N1::Int, N2::Int)\n",
    "    #=The configuration of the state with tag.\n",
    "    Inputs: tag: tag of a state\n",
    "            N1, N2: column and row numbers       \n",
    "    Outputs: binary form of tag. type: 1D array=#\n",
    "    \n",
    "    dim = 2^(N1 * N2 * 2)\n",
    "    if tag >= dim\n",
    "        return println(\"Error: The tag is out of range.\")\n",
    "    else\n",
    "        b = string(tag, base = 2, pad = N1 * N2 * 2)\n",
    "        return b\n",
    "    end\n",
    "end\n",
    "\n",
    "function flip(tag::Int, i::Int, j::Int, N1::Int, N2::Int)\n",
    "    #=Flip the spin on i,j site.\n",
    "    Inputs: tag: tag of a state\n",
    "            N1, N2: column and row numbers\n",
    "            i,j: position of spins that are flipped\n",
    "    Output: The tag of new state, type: int =#\n",
    "    SiteNum = N1 * N2 * 2\n",
    "    f = 2^(SiteNum - i) + 2^(SiteNum - j)\n",
    "    return ntag = xor(tag,f)\n",
    "end\n",
    "\n",
    "function KitaevRhom(J::Array{Float64,1}, N1::Int, N2::Int)\n",
    "    #=Kitaev Hamiltonian on N1 * N2 * 2 lattice\n",
    "    Inputes: N1, N2: column and row numbers\n",
    "             J: coupling constants\n",
    "    Outpus: The Non-zero Hamiltonian element H[i] is in the \n",
    "            position (row[i], col[i])\n",
    "            H, row, col : type: list =#\n",
    "    SiteNum = N1 * N2 * 2\n",
    "    dim = 2^SiteNum\n",
    "    \n",
    "    Ham = spzeros(Float64, dim, dim)\n",
    "\n",
    "    for tag = 0: dim-1\n",
    "\n",
    "        for r = 0: N2-1\n",
    "            for c = 0: N1-1\n",
    "                ind = index(N1, N2, c, r, 0)\n",
    "                \n",
    "                # Sx-Sx\n",
    "                next = index(N1, N2, c, r, 1)\n",
    "                ntag = flip(tag, ind, next, N1, N2)\n",
    "                Ham[ntag+1, tag+1] += -J[1] /4\n",
    "                \n",
    "                # Sy-Sy\n",
    "                next = index(N1, N2, c - 1, r, 1) \n",
    "                ntag = flip(tag, ind, next, N1, N2) \n",
    "                Ham[ntag+1, tag+1] += J[2] * (bits(tag,ind, N1, N2) - 0.5) * (bits(tag,next, N1, N2) - 0.5)\n",
    "                        \n",
    "                #Sz-Sz\n",
    "                next = index(N1, N2, c, r - 1, 1)\n",
    "                Ham[tag+1, tag+1] += - J[3] * (bits(tag,ind, N1, N2) - 0.5) * (bits(tag,next, N1, N2) - 0.5)\n",
    "            end\n",
    "        end                       \n",
    "    end\n",
    "    return Ham\n",
    "end"
   ]
  },
  {
   "cell_type": "code",
   "execution_count": 6,
   "metadata": {
    "code_folding": [],
    "scrolled": true
   },
   "outputs": [
    {
     "name": "stdout",
     "output_type": "stream",
     "text": [
      "[-0.204173, -0.204173, -0.204173, -0.204173, -0.195232, -0.195232]\n",
      "  1.703084 seconds (5.85 M allocations: 285.850 MiB, 7.87% gc time)\n"
     ]
    }
   ],
   "source": [
    "@time begin\n",
    "    N1 = 2\n",
    "    N2 = 3\n",
    "    J = -[1.0,1.0,1.0]\n",
    "\n",
    "    H = KitaevRhom(J, N1, N2)    \n",
    "    e,x = eigs(H, which = :SR)\n",
    "    println(e/(N1*N2*2))\n",
    "end"
   ]
  },
  {
   "cell_type": "code",
   "execution_count": 9,
   "metadata": {},
   "outputs": [
    {
     "data": {
      "text/plain": [
       "BenchmarkTools.Trial: \n",
       "  memory estimate:  2.03 MiB\n",
       "  allocs estimate:  35\n",
       "  --------------\n",
       "  minimum time:     15.214 ms (0.00% GC)\n",
       "  median time:      16.616 ms (0.00% GC)\n",
       "  mean time:        16.860 ms (0.00% GC)\n",
       "  maximum time:     21.858 ms (0.00% GC)\n",
       "  --------------\n",
       "  samples:          291\n",
       "  evals/sample:     1"
      ]
     },
     "execution_count": 9,
     "metadata": {},
     "output_type": "execute_result"
    }
   ],
   "source": [
    "using BenchmarkTools\n",
    "N1 = 2\n",
    "N2 = 3\n",
    "J = [1.0,1.0,1.0]\n",
    "@benchmark KitaevRhom(J, N1, N2)"
   ]
  },
  {
   "cell_type": "markdown",
   "metadata": {},
   "source": [
    "\\section{Kitaev model with translation symmetry}"
   ]
  },
  {
   "cell_type": "code",
   "execution_count": 235,
   "metadata": {
    "code_folding": [
     4,
     16,
     29,
     40,
     63
    ]
   },
   "outputs": [
    {
     "data": {
      "text/plain": [
       "MomBasis (generic function with 1 method)"
      ]
     },
     "execution_count": 235,
     "metadata": {},
     "output_type": "execute_result"
    }
   ],
   "source": [
    "using SparseArrays\n",
    "using Arpack\n",
    "using BenchmarkTools\n",
    "\n",
    "function index(N1::Int, N2::Int, c::Int, r::Int, atom::Int)\n",
    "    # Calculate the index of the atoms in the (r,c) unit cell\n",
    "    # A-sublattice atom = 0; B-subkattice: atom = 1\n",
    "    # index starts from 1\n",
    "    c = (c + N1) % N1 \n",
    "    r = (r + N2) % N2 \n",
    "    #println(\"(\",r,\",\",c,\")\")\n",
    "    n = r * N1 + c\n",
    "    ind = 2 * n + 1 + atom\n",
    "    return ind\n",
    "end\n",
    "\n",
    "function bits(tag::Int,i::Int, N1::Int, N2::Int)\n",
    "    # Chenck the i-th element of the binary representation of tag\n",
    "    # i starts form 1: left to right\n",
    "    SiteNum  = N1 * N2 * 2\n",
    "    mask = 2^(SiteNum - i)\n",
    "    n = tag & mask\n",
    "    if n == mask\n",
    "        return 1\n",
    "    else\n",
    "        return 0\n",
    "    end\n",
    "end\n",
    "\n",
    "function flip(tag::Int, i::Int, j::Int, N1::Int, N2::Int)\n",
    "    #=Flip the spin on i,j site.\n",
    "    Inputs: tag: tag of a state\n",
    "            N1, N2: column and row numbers\n",
    "            i,j: position of spins that are flipped, start form 1: left->right\n",
    "    Output: The tag of new state, type: int =#\n",
    "    SiteNum = N1 * N2 * 2\n",
    "    f = 2^(SiteNum - i) + 2^(SiteNum - j)\n",
    "    return ntag = xor(tag,f)\n",
    "end\n",
    "\n",
    "function cyclebits(tag::Int, n1::Int, n2::Int, N1::Int, N2::Int)\n",
    "    #=Performs a cyclic permutations of n1 steps to the right and n2 steps upward.\n",
    "       Inputs: tag: tag of the reference state\n",
    "               n1: cycle times of n1-direction, columns,if n1=0, no cycle in columns\n",
    "               n2: cycle times of n2-direction, rows,if n2=0, no cycle in rows\n",
    "               N1: number of columns\n",
    "               N2: number of rows\n",
    "       Outputs: ntag: the tag of the outcoming state=#\n",
    "    SiteNum = N1 * N2 * 2\n",
    "    ntag = 0\n",
    "    for r = 0: N2-1\n",
    "        for c = 0: N1-1\n",
    "            for atom = 0: 1\n",
    "                ind = index(N1, N2, c, r, atom)\n",
    "                # notice that c,r should be positive in julia, -1%3 = -1 instead of 2\n",
    "                nind = index(N1, N2, c + n1, r + n2, atom) # n1: ->right, n2 -> up, c\n",
    "                ntag += 2^(SiteNum - nind) * bits(tag, ind, N1, N2)\n",
    "            end\n",
    "        end\n",
    "    end\n",
    "    return ntag\n",
    "end\n",
    "\n",
    "function findindex(tag::Int, mb::Array{Int,1})\n",
    "    # find the index of a tag in mb\n",
    "    # binary search\n",
    "    dim = length(mb)\n",
    "    low = 1\n",
    "    high = dim   \n",
    "    while low <= high\n",
    "        mid = low + div(high - low, 2)\n",
    "        if tag < mb[mid]\n",
    "            high = mid -1\n",
    "        elseif tag > mb[mid]\n",
    "            low = mid + 1\n",
    "        elseif tag == mb[mid]\n",
    "            return mid\n",
    "        end\n",
    "    end\n",
    "    if low > high\n",
    "        return -1\n",
    "    end\n",
    "end\n",
    "\n",
    "function MomBasis(k1::Int, k2::Int, N1::Int, N2::Int)\n",
    "    #=Momentum basis list of a given k1, k2\n",
    "       Inputs: k1: momentum in n1-direction\n",
    "               k2: momentum in n2-direction\n",
    "               N1: number of columns\n",
    "               N2: number of rows\n",
    "       Outpus: mbasis: momentum basis list\n",
    "               Ra: list of corresponding cycle period \n",
    "                   R1: n1-direction \n",
    "                   R2: n2-direction=#\n",
    "    dim = 2^(N1 * N2 * 2)\n",
    "    ra = - ones(Int, dim)\n",
    "    mb = [x for x = 1: dim]\n",
    "        \n",
    "    # Translation symmetry along n1-direction\n",
    "    for tag = 0: (dim - 1)\n",
    "        if ra[tag + 1] == -1\n",
    "            for n1 = 1: N1\n",
    "                ntag = cyclebits(tag, n1, 0, N1, N2)\n",
    "                if ntag > tag\n",
    "                    ra[ntag + 1] = 0\n",
    "                elseif ntag == tag\n",
    "                    if k1%(N1/n1) == 0\n",
    "                        ra[ntag + 1] = n1\n",
    "                    else\n",
    "                        ra[ntag + 1] = 0\n",
    "                    end\n",
    "                    break\n",
    "                #elseif ntag < tag\n",
    "                    #if r1[ntag + 1] < 0\n",
    "                        #println(\"missing one element at n1!\")\n",
    "                    #end\n",
    "                end\n",
    "            end\n",
    "        end\n",
    "    end\n",
    "    \n",
    "    # Translation symmetry along n2-direction\n",
    "    for tag = 1 : (dim - 1)\n",
    "        if ra[tag + 1] != 0\n",
    "            for n2 = 1: N2\n",
    "                ntag = cyclebits(tag, 0, n2, N1, N2)\n",
    "                if ra[ntag + 1] != 0\n",
    "                    if ntag > tag\n",
    "                        ra[ntag + 1] = 0\n",
    "                    elseif ntag == tag\n",
    "                        if k2%(N2/n2) == 0\n",
    "                            ra[ntag + 1] *= n2\n",
    "                        else\n",
    "                            ra[ntag + 1] *= 0\n",
    "                        end\n",
    "                        break\n",
    "                    #elseif ntag + 1 < tag\n",
    "                        #if r2[nind] < 0\n",
    "                            #println(\"missing one element at n2!\")\n",
    "                        #end\n",
    "                    end\n",
    "                end\n",
    "            end\n",
    "        end\n",
    "    end\n",
    "    \n",
    "    for i = 1: length(mb)\n",
    "        mb[i] = mb[i] * sign(ra[i])\n",
    "    end \n",
    "    \n",
    "    ra = filter!(x->x != 0, ra)\n",
    "    mb = filter!(x->x != 0, mb)\n",
    "    mb = replace!(x -> x-1, mb)\n",
    "    return mb, ra\n",
    "end"
   ]
  },
  {
   "cell_type": "code",
   "execution_count": 245,
   "metadata": {},
   "outputs": [
    {
     "data": {
      "text/plain": [
       "BenchmarkTools.Trial: \n",
       "  memory estimate:  384.00 MiB\n",
       "  allocs estimate:  7\n",
       "  --------------\n",
       "  minimum time:     14.435 s (1.03% GC)\n",
       "  median time:      14.435 s (1.03% GC)\n",
       "  mean time:        14.435 s (1.03% GC)\n",
       "  maximum time:     14.435 s (1.03% GC)\n",
       "  --------------\n",
       "  samples:          1\n",
       "  evals/sample:     1"
      ]
     },
     "execution_count": 245,
     "metadata": {},
     "output_type": "execute_result"
    }
   ],
   "source": [
    "using BenchmarkTools\n",
    "N1 = 3\n",
    "N2 = 4\n",
    "k1 = 0\n",
    "k2 = 0\n",
    "@benchmark mb, ra = MomBasis(k1, k2, N1, N2)\n",
    "#println(\"Finish!\")\n",
    "#println(length(mb))\n",
    "#println(ra)"
   ]
  },
  {
   "cell_type": "markdown",
   "metadata": {},
   "source": [
    "\\section{Hamiltonian matrix}"
   ]
  },
  {
   "cell_type": "code",
   "execution_count": 192,
   "metadata": {
    "code_folding": [
     3
    ]
   },
   "outputs": [
    {
     "data": {
      "text/plain": [
       "KitaevH (generic function with 2 methods)"
      ]
     },
     "execution_count": 192,
     "metadata": {},
     "output_type": "execute_result"
    }
   ],
   "source": [
    "# Hamiltonian matrix\n",
    "using SparseArrays\n",
    "\n",
    "function findstate(tag::Int, mb::Array{Int,1}, N1::Int, N2::Int)\n",
    "    #=Find the reference state of an arbitrary state.\n",
    "       Inputs: tag :tag of the input state\n",
    "               mb: list of momentum basis\n",
    "               t1, t2: Translation matrix\n",
    "       Outputs: ntag: tag of the corresponding reference state\n",
    "                l : translation steps\n",
    "                ntag and l will return negative values if tag is not in mbasis.=#     \n",
    "    l1 = -1\n",
    "    l2 = -1\n",
    "    count = 0\n",
    "    for n1 = 1: N1\n",
    "        for n2 = 1: N2\n",
    "            ntag = cyclebits(tag, n1, n2, N1, N2)\n",
    "            if ntag in mb\n",
    "                l1 = n1 % N1\n",
    "                l2 = n2 % N2\n",
    "                break\n",
    "            end\n",
    "            count += 1\n",
    "        end\n",
    "        if ntag in mb\n",
    "            break\n",
    "        end\n",
    "    end\n",
    "    \n",
    "    if count >= N1 * N2\n",
    "        ntag = -1\n",
    "    end\n",
    "    return ntag, l1, l2\n",
    "end\n",
    "                           \n",
    "function KitaevH(J::Array{Float64,1}, N1::Int, N2::Int, k1::Int, k2::Int, mb::Array{Int,1}, ra::Array{Int,1})\n",
    "    #=Kitaev Hamiltonian on N1 * N2 * 2 lattice for a given k (with translation symmetry)\n",
    "       N1: number of unit cells in n1-direction, column number\n",
    "       N2: number of unit cells in n1-direction, row number\n",
    "    \n",
    "       Inputes: \n",
    "           N1, N2: width and length of the rhomboid cluster\n",
    "           k1, k2: momentund\n",
    "        \n",
    "       Outputs: The Non-zero Hamiltonian element H[i] is in the \n",
    "                position (row[i], col[i])\n",
    "                H, row, col : type: list\n",
    "        =#\n",
    "    #mb, ra = MomBasis(k1, k2, N1, N2)\n",
    "    dim = length(mb)\n",
    "    f1 = - 2 * pi / N1\n",
    "    f2 = - 2 * pi / N2\n",
    "    \n",
    "    #Ham = spzeros(Complex, dim, dim)\n",
    "    H_real = spzeros(Float64, dim, dim)\n",
    "    #H_img = spzeros(Float64, dim, dim)\n",
    "    \n",
    "    for tag in mb\n",
    "        i = findindex(tag, mb)\n",
    "        for r = 0: N2-1\n",
    "            for c = 0: N1-1\n",
    "                si = index(N1, N2, c, r, 0) # start index\n",
    "                \n",
    "                # Sx-Sx\n",
    "                ni = index(N1, N2, c, r, 1) # next index\n",
    "                ntag = flip(tag, si, ni, N1, N2)\n",
    "                rtag, l1, l2 = findstate(ntag, mb, N1, N2)\n",
    "                if rtag > 0\n",
    "                    j = findindex(rtag, mb)\n",
    "                    phase_real = cos(f1*k1*l1 + f2*k2*l2) * sqrt(ra[i]/ra[j])\n",
    "                    #phase_img = sin(f1*k1*l1 + f2*k2*l2) * sqrt(ra[i]/ra[j])\n",
    "                    H_real[j, i] += -J[1]/4 * phase_real\n",
    "                    #H_img[j, i] += -J[1]/4 * phase_img\n",
    "                end\n",
    "             \n",
    "                # Sy-Sy\n",
    "                ni = index(N1, N2, c - 1, r, 1)\n",
    "                ntag = flip(tag, si, ni, N1, N2)\n",
    "                rtag, l1, l2 = findstate(ntag, mb, N1, N2)\n",
    "                if rtag > 0\n",
    "                    j = findindex(rtag, mb)\n",
    "                    phase_real = cos(f1*k1*l1 + f2*k2*l2) * sqrt(ra[i]/ra[j])\n",
    "                    #phase_img = sin(f1*k1*l1 + f2*k2*l2) * sqrt(ra[i]/ra[j])\n",
    "                    H_real[j, i] += J[2]*(bits(tag, si, N1, N2)-0.5)*(bits(tag, ni, N1, N2)-0.5) * phase_real\n",
    "                    #H_img[j, i] += J[2]*(bits(tag, si, N1, N2)-0.5)*(bits(tag, ni, N1, N2)-0.5) * phase_img\n",
    "                end\n",
    "                                    \n",
    "                # Sz-Sz\n",
    "                ni = index(N1, N2, c, r - 1, 1)\n",
    "                H_real[i, i] += - J[3] * (bits(tag, si, N1, N2)-0.5)*(bits(tag, ni, N1, N2)-0.5)\n",
    "            end\n",
    "        end\n",
    "    end\n",
    "    return H_real\n",
    "end"
   ]
  },
  {
   "cell_type": "code",
   "execution_count": 247,
   "metadata": {},
   "outputs": [
    {
     "data": {
      "text/plain": [
       "BenchmarkTools.Trial: \n",
       "  memory estimate:  34.45 MiB\n",
       "  allocs estimate:  45\n",
       "  --------------\n",
       "  minimum time:     99.923 s (0.01% GC)\n",
       "  median time:      99.923 s (0.01% GC)\n",
       "  mean time:        99.923 s (0.01% GC)\n",
       "  maximum time:     99.923 s (0.01% GC)\n",
       "  --------------\n",
       "  samples:          1\n",
       "  evals/sample:     1"
      ]
     },
     "execution_count": 247,
     "metadata": {},
     "output_type": "execute_result"
    }
   ],
   "source": [
    "using SparseArrays\n",
    "using Arpack\n",
    "using BenchmarkTools\n",
    "\n",
    "N1 = 3\n",
    "N2 = 3\n",
    "k1 = 0\n",
    "k2 = 0\n",
    "SiteNum = N1 * N2 * 2\n",
    "J = -[1.0,1.0,1.0]\n",
    "\n",
    "mb,ra = MomBasis(k1, k2, N1, N2)\n",
    "\n",
    "@benchmark H = KitaevH(J, N1, N2, k1, k2, mb, ra)"
   ]
  },
  {
   "cell_type": "code",
   "execution_count": 197,
   "metadata": {},
   "outputs": [
    {
     "data": {
      "text/plain": [
       "BenchmarkTools.Trial: \n",
       "  memory estimate:  521.77 KiB\n",
       "  allocs estimate:  30\n",
       "  --------------\n",
       "  minimum time:     26.121 ms (0.00% GC)\n",
       "  median time:      26.608 ms (0.00% GC)\n",
       "  mean time:        27.144 ms (0.00% GC)\n",
       "  maximum time:     32.141 ms (0.00% GC)\n",
       "  --------------\n",
       "  samples:          184\n",
       "  evals/sample:     1"
      ]
     },
     "execution_count": 197,
     "metadata": {},
     "output_type": "execute_result"
    }
   ],
   "source": [
    "using SparseArrays\n",
    "using Arpack\n",
    "using BenchmarkTools\n",
    "\n",
    "N1 = 2\n",
    "N2 = 3\n",
    "k1 = 0\n",
    "k2 = 0\n",
    "SiteNum = N1 * N2 * 2\n",
    "J = -[1.0,1.0,1.0]\n",
    "\n",
    "mb,ra = MomBasis(k1, k2, N1, N2)\n",
    "\n",
    "@benchmark H = KitaevH(J, N1, N2, k1, k2, mb, ra)"
   ]
  },
  {
   "cell_type": "code",
   "execution_count": 240,
   "metadata": {},
   "outputs": [
    {
     "name": "stdout",
     "output_type": "stream",
     "text": [
      "[-0.204173, -0.204111, -0.195232, -0.194739, -0.193645, -0.193645]\n",
      "  0.048424 seconds (1.84 k allocations: 1.254 MiB)\n"
     ]
    }
   ],
   "source": [
    "using SparseArrays\n",
    "using Arpack\n",
    "\n",
    "N1 = 2\n",
    "N2 = 3\n",
    "k1 = 0\n",
    "k2 = 0\n",
    "SiteNum = N1 * N2 * 2\n",
    "J = -[1.0,1.0,1.0]\n",
    "@time begin\n",
    "mb, ra = MomBasis(k1, k2, N1, N2)\n",
    "#println(mb)\n",
    "#for k1 = 0: N1-1\n",
    "    #for k2 = 0: N2-1\n",
    "        H = KitaevH(J, N1, N2, k1, k2, mb, ra)\n",
    "        e, x = eigs(H, which = :SR)\n",
    "        println(real(e/SiteNum))\n",
    "    #end\n",
    "#end\n",
    "end"
   ]
  },
  {
   "cell_type": "code",
   "execution_count": null,
   "metadata": {},
   "outputs": [],
   "source": []
  }
 ],
 "metadata": {
  "kernelspec": {
   "display_name": "Julia 1.1.0",
   "language": "julia",
   "name": "julia-1.1"
  },
  "language_info": {
   "file_extension": ".jl",
   "mimetype": "application/julia",
   "name": "julia",
   "version": "1.1.0"
  },
  "latex_envs": {
   "LaTeX_envs_menu_present": true,
   "autoclose": false,
   "autocomplete": false,
   "bibliofile": "biblio.bib",
   "cite_by": "apalike",
   "current_citInitial": 1,
   "eqLabelWithNumbers": true,
   "eqNumInitial": 1,
   "hotkeys": {
    "equation": "Ctrl-E",
    "itemize": "Ctrl-I"
   },
   "labels_anchors": false,
   "latex_user_defs": false,
   "report_style_numbering": true,
   "user_envs_cfg": false
  },
  "toc": {
   "base_numbering": 1,
   "nav_menu": {},
   "number_sections": true,
   "sideBar": true,
   "skip_h1_title": false,
   "title_cell": "Table of Contents",
   "title_sidebar": "Contents",
   "toc_cell": false,
   "toc_position": {},
   "toc_section_display": true,
   "toc_window_display": false
  }
 },
 "nbformat": 4,
 "nbformat_minor": 2
}
