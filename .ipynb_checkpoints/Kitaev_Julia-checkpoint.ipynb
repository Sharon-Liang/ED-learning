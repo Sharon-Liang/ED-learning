{
 "cells": [
  {
   "cell_type": "markdown",
   "metadata": {},
   "source": [
    "Julia code for Kitaev model.\n",
    "\\section{Kitaev model without symmetry}"
   ]
  },
  {
   "cell_type": "code",
   "execution_count": 30,
   "metadata": {
    "code_folding": [
     0,
     16,
     28,
     43,
     54,
     120
    ]
   },
   "outputs": [
    {
     "data": {
      "text/plain": [
       "makeH (generic function with 1 method)"
      ]
     },
     "execution_count": 30,
     "metadata": {},
     "output_type": "execute_result"
    }
   ],
   "source": [
    "function index(N1::Int, N2::Int, c::Int, r::Int, atom)\n",
    "    #Calculate the index of the atoms in the (r,c) unit cell\n",
    "    c = (c + N1) % N1 \n",
    "    r = (r + N2) % N2 \n",
    "    #println(\"(\",r,\",\",c,\")\")\n",
    "    n = r * N1 + c \n",
    "    if atom == 'A'\n",
    "        ind = 2 * n + 1\n",
    "    elseif atom == 'B'\n",
    "        ind = 2 * n + 1 + 1\n",
    "    else\n",
    "        return println(\"ERROR: The atom index should be A or B.\")\n",
    "    return ind\n",
    "    end\n",
    "end\n",
    "\n",
    "function bits(tag::Int,i::Int, N1::Int, N2::Int)\n",
    "    # Chenck the i-th element of the binary representation of tag\n",
    "    SiteNum  = N1 * N2 * 2\n",
    "    mask = 2^(SiteNum - i)\n",
    "    n = tag & mask\n",
    "    if n == mask\n",
    "        return 1\n",
    "    else\n",
    "        return 0\n",
    "    end\n",
    "end\n",
    "    \n",
    "function StateConfig(tag::Int, N1::Int, N2::Int)\n",
    "    #=The configuration of the state with tag.\n",
    "    Inputs: tag: tag of a state\n",
    "            N1, N2: column and row numbers       \n",
    "    Outputs: binary form of tag. type: 1D array=#\n",
    "    \n",
    "    dim = 2^(N1 * N2 * 2)\n",
    "    if tag >= dim\n",
    "        return println(\"Error: The tag is out of range.\")\n",
    "    else\n",
    "        b = string(tag, base = 2, pad = N1 * N2 * 2)\n",
    "        return b\n",
    "    end\n",
    "end\n",
    "\n",
    "function flip(tag::Int, i::Int, j::Int, N1::Int, N2::Int)\n",
    "    #=Flip the spin on i,j site.\n",
    "    Inputs: tag: tag of a state\n",
    "            N1, N2: column and row numbers\n",
    "            i,j: position of spins that are flipped\n",
    "    Output: The tag of new state, type: int =#\n",
    "    SiteNum = N1 * N2 * 2\n",
    "    f = 2^(SiteNum - i) + 2^(SiteNum - j)\n",
    "    return ntag = xor(tag,f)\n",
    "end\n",
    "\n",
    "function KitaevRhom(J::Array{Float64,1}, N1::Int, N2::Int)\n",
    "    #=Kitaev Hamiltonian on N1 * N2 * 2 lattice\n",
    "    Inputes: N1, N2: column and row numbers\n",
    "             J: coupling constants\n",
    "    Outpus: The Non-zero Hamiltonian element H[i] is in the \n",
    "            position (row[i], col[i])\n",
    "            H, row, col : type: list =#\n",
    "    SiteNum = N1 * N2 * 2\n",
    "    dim = 2^SiteNum\n",
    "    \n",
    "    numNZero = 0  #count the number of non-zero element\n",
    "    data = Float64[]\n",
    "    row = Int[]\n",
    "    col = Int[]\n",
    "    for tag = 0: dim-1\n",
    "        #println(\"The state numnber is: \" , tag)\n",
    "        temp = Dict{Int, Float64}() # A temporay dict\n",
    "        \n",
    "        for r = 0: N2-1\n",
    "            for c = 0: N1-1\n",
    "                ind = index(N1, N2, c, r, 'A')\n",
    "                # Sx Sx\n",
    "                next = index(N1, N2, c, r, 'B')\n",
    "                \n",
    "                ntag = flip(tag, ind, next, N1, N2)\n",
    "                if ntag in keys(temp)\n",
    "                    temp[ntag] += -J[1] /4\n",
    "                else\n",
    "                    temp[ntag] = -J[1] /4\n",
    "                end  \n",
    "                \n",
    "                # Sy Sy\n",
    "                next = index(N1, N2, c - 1, r, 'B')\n",
    "                \n",
    "                ntag = flip(tag, ind, next, N1, N2) \n",
    "                if ntag in keys(temp)\n",
    "                    temp[ntag] += J[2] * (bits(tag,ind, N1, N2) - 0.5) * (bits(tag,next, N1, N2) - 0.5)\n",
    "                else\n",
    "                    temp[ntag] = J[2] * (bits(tag,ind, N1, N2) - 0.5) * (bits(tag,next, N1, N2) - 0.5)\n",
    "                end\n",
    "                        \n",
    "                #Sz Sz\n",
    "                next = index(N1, N2, c, r - 1, 'B')\n",
    "                    \n",
    "                if tag in keys(temp)\n",
    "                    temp[tag] += - J[3] * (bits(tag,ind, N1, N2) - 0.5) * (bits(tag,next, N1, N2) - 0.5)\n",
    "                else\n",
    "                    temp[tag] = - J[3] * (bits(tag,ind, N1, N2) - 0.5)* (bits(tag,next, N1, N2) - 0.5)\n",
    "                end\n",
    "            end\n",
    "        end\n",
    "                        \n",
    "        odTemp = sort(collect(keys(temp)))\n",
    "        for sf in odTemp\n",
    "            append!(col, [tag + 1])\n",
    "            append!(row, [sf + 1])\n",
    "            append!(data,[temp[sf]])\n",
    "            numNZero += 1\n",
    "        end\n",
    "    end\n",
    "    \n",
    "    #println(\"non zero elemens number =\" , numNZero)\n",
    "    #println(\"Percentage =\" , numNZero/(dim * dim) * 100,\"%\")\n",
    "    return col, row, data\n",
    "end\n",
    "\n",
    "function makeH(col, row, data)\n",
    "    H = sparse(row, col, data)\n",
    "    return H\n",
    "end\n"
   ]
  },
  {
   "cell_type": "code",
   "execution_count": 27,
   "metadata": {
    "scrolled": true
   },
   "outputs": [
    {
     "name": "stdout",
     "output_type": "stream",
     "text": [
      "non zero elemens number =4980736\n",
      "Percentage =0.0072479248046875%\n",
      "[-0.198493, -0.198493, -0.198493, -0.195481, -0.195481, -0.195481]\n",
      " 12.590909 seconds (17.57 M allocations: 2.170 GiB, 3.07% gc time)\n"
     ]
    }
   ],
   "source": [
    "using SparseArrays\n",
    "using Arpack\n",
    "\n",
    "@time begin\n",
    "    N1 = 3\n",
    "    N2 = 3\n",
    "    J = [1.0,1.0,1.0]\n",
    "\n",
    "    col, row, data = KitaevRhom(J, N1, N2)\n",
    "    H =  makeH(col, row, data)\n",
    "    \n",
    "    e,x = eigs(H, which = :SR)\n",
    "    println(e/(N1*N2*2))\n",
    "end\n"
   ]
  },
  {
   "cell_type": "code",
   "execution_count": 33,
   "metadata": {},
   "outputs": [
    {
     "data": {
      "text/plain": [
       "BenchmarkTools.Trial: \n",
       "  memory estimate:  27.06 MiB\n",
       "  allocs estimate:  200753\n",
       "  --------------\n",
       "  minimum time:     14.660 ms (6.30% GC)\n",
       "  median time:      16.025 ms (6.42% GC)\n",
       "  mean time:        16.399 ms (7.92% GC)\n",
       "  maximum time:     32.543 ms (9.13% GC)\n",
       "  --------------\n",
       "  samples:          305\n",
       "  evals/sample:     1"
      ]
     },
     "execution_count": 33,
     "metadata": {},
     "output_type": "execute_result"
    }
   ],
   "source": [
    "using BenchmarkTools\n",
    "N1 = 2\n",
    "N2 = 3\n",
    "J = [1.0,1.0,1.0]\n",
    "@benchmark KitaevRhom(J, N1, N2)"
   ]
  },
  {
   "cell_type": "markdown",
   "metadata": {},
   "source": [
    "\\section{Kitaev model with translation symmetry}"
   ]
  },
  {
   "cell_type": "code",
   "execution_count": 96,
   "metadata": {
    "code_folding": [
     0,
     11,
     23,
     38,
     49
    ]
   },
   "outputs": [
    {
     "data": {
      "text/plain": [
       "MomBasis (generic function with 1 method)"
      ]
     },
     "execution_count": 96,
     "metadata": {},
     "output_type": "execute_result"
    }
   ],
   "source": [
    "function index(N1::Int, N2::Int, c::Int, r::Int, atom::Int)\n",
    "    #Calculate the index of the atoms in the (r,c) unit cell\n",
    "    #A-sublattice atom = 0; B-subkattice: atom = 1\n",
    "    c = (c + N1) % N1 \n",
    "    r = (r + N2) % N2 \n",
    "    #println(\"(\",r,\",\",c,\")\")\n",
    "    n = r * N1 + c\n",
    "    ind = 2 * n + 1 + atom\n",
    "    return ind\n",
    "end\n",
    "\n",
    "function bits(tag::Int,i::Int, N1::Int, N2::Int)\n",
    "    # Chenck the i-th element of the binary representation of tag\n",
    "    SiteNum  = N1 * N2 * 2\n",
    "    mask = 2^(SiteNum - i)\n",
    "    n = tag & mask\n",
    "    if n == mask\n",
    "        return 1\n",
    "    else\n",
    "        return 0\n",
    "    end\n",
    "end\n",
    "\n",
    "function StateConfig(tag::Int, N1::Int, N2::Int)\n",
    "    #=The configuration of the state with tag.\n",
    "    Inputs: tag: tag of a state\n",
    "            N1, N2: column and row numbers       \n",
    "    Outputs: binary form of tag. type: 1D array=#\n",
    "    \n",
    "    dim = 2^(N1 * N2 * 2)\n",
    "    if tag >= dim\n",
    "        return println(\"Error: The tag is out of range.\")\n",
    "    else\n",
    "        b = string(tag, base = 2, pad = N1 * N2 * 2)\n",
    "        return b\n",
    "    end\n",
    "end\n",
    "\n",
    "function flip(tag::Int, i::Int, j::Int, N1::Int, N2::Int)\n",
    "    #=Flip the spin on i,j site.\n",
    "    Inputs: tag: tag of a state\n",
    "            N1, N2: column and row numbers\n",
    "            i,j: position of spins that are flipped\n",
    "    Output: The tag of new state, type: int =#\n",
    "    SiteNum = N1 * N2 * 2\n",
    "    f = 2^(SiteNum - i) + 2^(SiteNum - j)\n",
    "    return ntag = xor(tag,f)\n",
    "end\n",
    "\n",
    "function cyclebits(tag::Int, n1::Int,n2::Int, N1::Int, N2::Int)\n",
    "    #=Performs a cyclic permutations of n1 steps to the right and n2 steps upward.\n",
    "       Inputs: tag: tag of the reference state\n",
    "               n1: cycle times of n1-direction, columns,if n1=0, no cycle in columns\n",
    "               n2: cycle times of n2-direction, rows,if n2=0, no cycle in rows\n",
    "               N1: number of columns\n",
    "               N2: number of rows\n",
    "       Outputs: ntag: the tag of the outcoming state=#\n",
    "    SiteNum = N1 * N2 * 2\n",
    "    a = reshape(1: 2: SiteNum, N1, N2)\n",
    "    b = reshape(2: 2: SiteNum, N1, N2)\n",
    "    a = circshift(a, (n1, n2))\n",
    "    b = circshift(b, (n1, n2))\n",
    "    #ncfig = reshape(b, (SiteNum, 1))\n",
    "    #println(ncfig)\n",
    "    ntag = 0\n",
    "    for i = 1: N1*N2\n",
    "        ntag += 2^(SiteNum - 2*i + 1 ) * bits(tag, a[i], N1, N2)\n",
    "        ntag += 2^(SiteNum - 2*i) * bits(tag, b[i], N1, N2)\n",
    "    end  \n",
    "    return ntag\n",
    "end\n",
    "\n",
    "function MomBasis(k1::Int, k2::Int, N1::Int, N2::Int)\n",
    "    #=Momentum basis list of a given k1, k2\n",
    "       Inputs: k1: momentum in n1-direction\n",
    "               k2: momentum in n2-direction\n",
    "               N1: number of columns\n",
    "               N2: number of rows\n",
    "       Outpus: mbasis: momentum basis list\n",
    "               Ra: list of corresponding cycle period \n",
    "                   R1: n1-direction \n",
    "                   R2: n2-direction=#\n",
    "    dim = 2^(N1 * N2 * 2) \n",
    "    basis = ones(Int, dim)\n",
    "    \n",
    "    m1 = Dict{Int, Int}()\n",
    "    m2 = Dict{Int, Int}()\n",
    "    mb = Int[]\n",
    "    \n",
    "    #println(\"Finish initialize\")\n",
    "    # Translation symmetry along n1-direction\n",
    "    for tag = 0: (dim-1)\n",
    "        if basis[tag + 1] == 1\n",
    "            for n1= 1:N1\n",
    "                ntag = cyclebits(n1, 0, tag, N1, N2)\n",
    "                if ntag > tag\n",
    "                    basis[ntag + 1] = 0\n",
    "                elseif ntag == tag\n",
    "                    basis[ntag + 1] = 0\n",
    "                    if k1%(N1/n1) == 0\n",
    "                        m1[tag] = n1\n",
    "                    end\n",
    "                    break\n",
    "                end\n",
    "            end\n",
    "        end\n",
    "    end\n",
    " \n",
    "    # Translation symmetry along n2-direction\n",
    "    basis = ones(Int, dim)\n",
    "    for tag = 0: (dim-1)\n",
    "        if basis[tag + 1] == 1\n",
    "            for n2= 1:N2\n",
    "                ntag = cyclebits(0, n2, tag, N1, N2)\n",
    "                if ntag > tag\n",
    "                    basis[ntag + 1] = 0\n",
    "                elseif ntag == tag\n",
    "                    basis[ntag + 1] = 0\n",
    "                    if k2%(N2/n2) == 0\n",
    "                        m2[tag] = n2\n",
    "                    end\n",
    "                    break\n",
    "                end\n",
    "            end\n",
    "        end\n",
    "    end\n",
    "   \n",
    "    for x in collect(keys(m1))\n",
    "        if x in collect(keys(m2))\n",
    "            append!(mb,[x])\n",
    "        end\n",
    "    end\n",
    "    return mb, m1, m2\n",
    "end"
   ]
  },
  {
   "cell_type": "code",
   "execution_count": 95,
   "metadata": {},
   "outputs": [
    {
     "name": "stdout",
     "output_type": "stream",
     "text": [
      "167\n",
      "167\n"
     ]
    }
   ],
   "source": [
    "using BenchmarkTools\n",
    "N1 = 2\n",
    "N2 = 3\n",
    "\n",
    "n1 = 4\n",
    "n2 = 3\n",
    "\n",
    "tag = 167\n",
    "\n",
    "println(cyclebits(tag, n1, n2, N1, N2))\n",
    "println(cyclebits_opt(tag, n1, n2, N1, N2))"
   ]
  },
  {
   "cell_type": "code",
   "execution_count": 97,
   "metadata": {},
   "outputs": [
    {
     "data": {
      "text/plain": [
       "BenchmarkTools.Trial: \n",
       "  memory estimate:  5.06 MiB\n",
       "  allocs estimate:  40948\n",
       "  --------------\n",
       "  minimum time:     7.558 ms (0.00% GC)\n",
       "  median time:      8.131 ms (0.00% GC)\n",
       "  mean time:        8.348 ms (3.36% GC)\n",
       "  maximum time:     49.005 ms (82.71% GC)\n",
       "  --------------\n",
       "  samples:          599\n",
       "  evals/sample:     1"
      ]
     },
     "execution_count": 97,
     "metadata": {},
     "output_type": "execute_result"
    }
   ],
   "source": [
    "k1 = 0\n",
    "k2 = 0\n",
    "@benchmark MomBasis(k1, k2, N1, N2)"
   ]
  },
  {
   "cell_type": "code",
   "execution_count": null,
   "metadata": {},
   "outputs": [],
   "source": []
  }
 ],
 "metadata": {
  "kernelspec": {
   "display_name": "Julia 1.1.0",
   "language": "julia",
   "name": "julia-1.1"
  },
  "language_info": {
   "file_extension": ".jl",
   "mimetype": "application/julia",
   "name": "julia",
   "version": "1.1.0"
  },
  "latex_envs": {
   "LaTeX_envs_menu_present": true,
   "autoclose": false,
   "autocomplete": false,
   "bibliofile": "biblio.bib",
   "cite_by": "apalike",
   "current_citInitial": 1,
   "eqLabelWithNumbers": true,
   "eqNumInitial": 1,
   "hotkeys": {
    "equation": "Ctrl-E",
    "itemize": "Ctrl-I"
   },
   "labels_anchors": false,
   "latex_user_defs": false,
   "report_style_numbering": true,
   "user_envs_cfg": false
  },
  "toc": {
   "base_numbering": 1,
   "nav_menu": {},
   "number_sections": true,
   "sideBar": true,
   "skip_h1_title": false,
   "title_cell": "Table of Contents",
   "title_sidebar": "Contents",
   "toc_cell": false,
   "toc_position": {},
   "toc_section_display": true,
   "toc_window_display": false
  }
 },
 "nbformat": 4,
 "nbformat_minor": 2
}
