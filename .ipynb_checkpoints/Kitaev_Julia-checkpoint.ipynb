{
 "cells": [
  {
   "cell_type": "markdown",
   "metadata": {},
   "source": [
    "Julia code for Kitaev model.\n",
    "\\section{Kitaev model without symmetry}"
   ]
  },
  {
   "cell_type": "code",
   "execution_count": 339,
   "metadata": {
    "code_folding": [
     0,
     28
    ]
   },
   "outputs": [
    {
     "data": {
      "text/plain": [
       "makeH (generic function with 1 method)"
      ]
     },
     "execution_count": 339,
     "metadata": {},
     "output_type": "execute_result"
    }
   ],
   "source": [
    "function index(N1, N2, c, r, atom)\n",
    "    #Calculate the index of the atoms in the (r,c) unit cell\n",
    "    c = (c + N1) % N1 \n",
    "    r = (r + N2) % N2 \n",
    "    #println(\"(\",r,\",\",c,\")\")\n",
    "    n = r * N1 + c \n",
    "    if atom == 'A'\n",
    "        ind = 2 * n + 1\n",
    "    elseif atom == 'B'\n",
    "        ind = 2 * n + 1 + 1\n",
    "    else\n",
    "        return println(\"ERROR: The atom index should be A or B.\")\n",
    "    return ind\n",
    "    end\n",
    "end\n",
    "\n",
    "function bits(tag::Int,i::Int, N1, N2)\n",
    "    # Chenck the i-th element of the binary representation of tag\n",
    "    SiteNum  = N1 * N2 * 2\n",
    "    mask = 2^(SiteNum - i)\n",
    "    n = tag & mask\n",
    "    if n == mask\n",
    "        return 1\n",
    "    else\n",
    "        return 0\n",
    "    end\n",
    "end\n",
    "    \n",
    "function StateConfig(tag, N1, N2)\n",
    "    #=The configuration of the state with tag.\n",
    "    Inputs: tag: tag of a state\n",
    "            N1, N2: column and row numbers       \n",
    "    Outputs: binary form of tag. type: 1D array=#\n",
    "    \n",
    "    dim = 2^(N1 * N2 * 2)\n",
    "    if tag >= dim\n",
    "        return println(\"Error: The tag is out of range.\")\n",
    "    else\n",
    "        b = string(tag, base = 2, pad = N1 * N2 * 2)\n",
    "        return b\n",
    "    end\n",
    "end\n",
    "\n",
    "function flip(tag, i, j, N1, N2)\n",
    "    #=Flip the spin on i,j site.\n",
    "    Inputs: tag: tag of a state\n",
    "            N1, N2: column and row numbers\n",
    "            i,j: position of spins that are flipped\n",
    "    Output: The tag of new state, type: int =#\n",
    "    SiteNum = N1 * N2 * 2\n",
    "    f = 2^(SiteNum - i) + 2^(SiteNum - j)\n",
    "    return ntag = xor(tag,f)\n",
    "end\n",
    "\n",
    "function KitaevRhom(J, N1, N2)\n",
    "    #=Kitaev Hamiltonian on N1 * N2 * 2 lattice\n",
    "    Inputes: N1, N2: column and row numbers\n",
    "             J: coupling constants\n",
    "    Outpus: The Non-zero Hamiltonian element H[i] is in the \n",
    "            position (row[i], col[i])\n",
    "            H, row, col : type: list =#\n",
    "    SiteNum = N1 * N2 * 2\n",
    "    dim = 2^SiteNum\n",
    "    \n",
    "    numNZero = 0  #count the number of non-zero element\n",
    "    data = Float64[]\n",
    "    row = Int[]\n",
    "    col = Int[]\n",
    "    for tag = 0: dim-1\n",
    "        #println(\"The state numnber is: \" , tag)\n",
    "        temp = Dict{Int, Float64}() # A temporay dict\n",
    "        \n",
    "        for r = 0: N2-1\n",
    "            for c = 0: N1-1\n",
    "                ind = index(N1, N2, c, r, 'A')\n",
    "                # Sx Sx\n",
    "                next = index(N1, N2, c, r, 'B')\n",
    "                \n",
    "                ntag = flip(tag, ind, next, N1, N2)\n",
    "                if ntag in keys(temp)\n",
    "                    temp[ntag] += -J[1] /4\n",
    "                else\n",
    "                    temp[ntag] = -J[1] /4\n",
    "                end  \n",
    "                \n",
    "                # Sy Sy\n",
    "                next = index(N1, N2, c - 1, r, 'B')\n",
    "                \n",
    "                ntag = flip(tag, ind, next, N1, N2) \n",
    "                if ntag in keys(temp)\n",
    "                    temp[ntag] += J[2] * (bits(tag,ind, N1, N2) - 0.5) * (bits(tag,next, N1, N2) - 0.5)\n",
    "                else\n",
    "                    temp[ntag] = J[2] * (bits(tag,ind, N1, N2) - 0.5) * (bits(tag,next, N1, N2) - 0.5)\n",
    "                end\n",
    "                        \n",
    "                #Sz Sz\n",
    "                next = index(N1, N2, c, r - 1, 'B')\n",
    "                    \n",
    "                if tag in keys(temp)\n",
    "                    temp[tag] += - J[3] * (bits(tag,ind, N1, N2) - 0.5) * (bits(tag,next, N1, N2) - 0.5)\n",
    "                else\n",
    "                    temp[tag] = - J[3] * (bits(tag,ind, N1, N2) - 0.5)* (bits(tag,next, N1, N2) - 0.5)\n",
    "                end\n",
    "            end\n",
    "        end\n",
    "                        \n",
    "        odTemp = sort(collect(keys(temp)))\n",
    "        for sf in odTemp\n",
    "            append!(col, [tag + 1])\n",
    "            append!(row, [sf + 1])\n",
    "            append!(data,[temp[sf]])\n",
    "            numNZero += 1\n",
    "        end\n",
    "    end\n",
    "    \n",
    "    println(\"non zero elemens number =\" , numNZero)\n",
    "    println(\"Percentage =\" , numNZero/(dim * dim) * 100,\"%\")\n",
    "    return col, row, data\n",
    "end\n",
    "\n",
    "function makeH(col, row, data)\n",
    "    H = sparse(row, col, data)\n",
    "    return H\n",
    "end\n"
   ]
  },
  {
   "cell_type": "code",
   "execution_count": 455,
   "metadata": {
    "scrolled": true
   },
   "outputs": [
    {
     "name": "stdout",
     "output_type": "stream",
     "text": [
      "non zero elemens number =4980736\n",
      "Percentage =0.0072479248046875%\n",
      "  2.290302 seconds (17.68 M allocations: 1.961 GiB, 24.62% gc time)\n",
      "  0.218868 seconds (21 allocations: 158.001 MiB, 2.23% gc time)\n",
      "  8.474366 seconds (2.59 k allocations: 62.103 MiB, 0.29% gc time)\n",
      "[0.198493, -0.198493, -0.198493, 0.198493, -0.198493, 0.198493]\n"
     ]
    }
   ],
   "source": [
    "using SparseArrays\n",
    "using Arpack\n",
    "\n",
    "N1 = 3\n",
    "N2 = 3\n",
    "J = [1,1,1]\n",
    "\n",
    "@time col, row, data = KitaevRhom(J, N1, N2)\n",
    "@time H =  makeH(col, row, data)\n",
    "\n",
    "\n",
    "@time e,x = eigs(H)\n",
    "println(e/(N1*N2*2))"
   ]
  },
  {
   "cell_type": "code",
   "execution_count": 340,
   "metadata": {},
   "outputs": [
    {
     "name": "stdout",
     "output_type": "stream",
     "text": [
      "non zero elemens number =4980736\n",
      "Percentage =0.0072479248046875%\n",
      "  2.030082 seconds (17.67 M allocations: 1.960 GiB, 20.86% gc time)\n",
      "  0.250455 seconds (2.19 k allocations: 158.101 MiB, 1.86% gc time)\n",
      "  5.590781 seconds (1.76 k allocations: 62.072 MiB, 0.40% gc time)\n",
      "[0.198493, -0.198493, -0.198493, 0.198493, 0.195481, -0.195481]\n"
     ]
    }
   ],
   "source": [
    "using SparseArrays\n",
    "using Arpack\n",
    "\n",
    "N1 = 3\n",
    "N2 = 3\n",
    "J = [1,1,1]\n",
    "\n",
    "@time col, row, data = KitaevRhom(J, N1, N2)\n",
    "@time H =  makeH(col, row, data)\n",
    "\n",
    "\n",
    "@time e,x = eigs(H)\n",
    "println(e/(N1*N2*2))"
   ]
  },
  {
   "cell_type": "markdown",
   "metadata": {},
   "source": [
    "\\section{Kitaev model with translation symmetry}"
   ]
  },
  {
   "cell_type": "code",
   "execution_count": 509,
   "metadata": {
    "code_folding": [
     0,
     16,
     98,
     117
    ]
   },
   "outputs": [
    {
     "data": {
      "text/plain": [
       "MomBasis (generic function with 1 method)"
      ]
     },
     "execution_count": 509,
     "metadata": {},
     "output_type": "execute_result"
    }
   ],
   "source": [
    "function index(N1::Int, N2::Int, c::Int, r::Int, atom)\n",
    "    #Calculate the index of the atoms in the (r,c) unit cell\n",
    "    c = (c + N1) % N1 \n",
    "    r = (r + N2) % N2 \n",
    "    #println(\"(\",r,\",\",c,\")\")\n",
    "    n = r * N1 + c \n",
    "    if atom == 'A'\n",
    "        ind = 2 * n + 1\n",
    "    elseif atom == 'B'\n",
    "        ind = 2 * n + 1 + 1\n",
    "    else\n",
    "        return println(\"ERROR: The atom index should be A or B.\")\n",
    "    return ind\n",
    "    end\n",
    "end\n",
    "\n",
    "function bits(tag::Int,i::Int, N1, N2)\n",
    "    # Chenck the i-th element of the binary representation of tag\n",
    "    SiteNum  = N1 * N2 * 2\n",
    "    mask = 2^(SiteNum - i)\n",
    "    n = tag & mask\n",
    "    if n == mask\n",
    "        return 1\n",
    "    else\n",
    "        return 0\n",
    "    end\n",
    "end\n",
    "\n",
    "function StateConfig(tag, N1, N2)\n",
    "    #=The configuration of the state with tag.\n",
    "    Inputs: tag: tag of a state\n",
    "            N1, N2: column and row numbers       \n",
    "    Outputs: binary form of tag. type: 1D array=#\n",
    "    \n",
    "    dim = 2^(N1 * N2 * 2)\n",
    "    if tag >= dim\n",
    "        return println(\"Error: The tag is out of range.\")\n",
    "    else\n",
    "        b = string(tag, base = 2, pad = N1 * N2 * 2)\n",
    "        return b\n",
    "    end\n",
    "end\n",
    "\n",
    "function flip(tag, i, j, N1, N2)\n",
    "    #=Flip the spin on i,j site.\n",
    "    Inputs: tag: tag of a state\n",
    "            N1, N2: column and row numbers\n",
    "            i,j: position of spins that are flipped\n",
    "    Output: The tag of new state, type: int =#\n",
    "    SiteNum = N1 * N2 * 2\n",
    "    f = 2^(SiteNum - i) + 2^(SiteNum - j)\n",
    "    return ntag = xor(tag,f)\n",
    "end\n",
    "\n",
    "function cyclebits(n1::Int,n2::Int, tag::Int, N1::Int, N2::Int)\n",
    "    #=Performs a cyclic permutations of n1 steps to the right and n2 steps upward.\n",
    "       Inputs: tag: tag of the reference state\n",
    "               n1: cycle times of n1-direction, columns,if n1=0, no cycle in columns\n",
    "               n2: cycle times of n2-direction, rows,if n2=0, no cycle in rows\n",
    "               N1: number of columns\n",
    "               N2: number of rows\n",
    "       Outputs: ntag: the tag of the outcoming state=#\n",
    "    SiteNum = N1 * N2 * 2\n",
    "    config = StateConfig(tag, N1, N2)\n",
    "    cfig = [parse(Int,x) for x in config]\n",
    "\n",
    "    a = reshape(cfig, 2, N1, N2)\n",
    "    b = circshift(a, (0, n1, n2))\n",
    "    ncfig = reshape(b, (SiteNum, 1))\n",
    "    #println(ncfig)\n",
    "    ntag = 0\n",
    "    for i in 1:SiteNum\n",
    "        ntag += 2^(SiteNum - i) * ncfig[i]\n",
    "    end  \n",
    "    return ntag\n",
    "end\n",
    "\n",
    "function MomBasis(k1::Int, k2::Int, N1::Int, N2::Int)\n",
    "    #=Momentum basis list of a given k1, k2\n",
    "       Inputs: k1: momentum in n1-direction\n",
    "               k2: momentum in n2-direction\n",
    "               N1: number of columns\n",
    "               N2: number of rows\n",
    "       Outpus: mbasis: momentum basis list\n",
    "               Ra: list of corresponding cycle period \n",
    "                   R1: n1-direction \n",
    "                   R2: n2-direction=#\n",
    "    SiteNum = N1 * N2 * 2\n",
    "    dim = 2^SiteNum\n",
    "    \n",
    "    basis = ones(Int, dim)\n",
    "    \n",
    "    m1 = Dict{Int, Int}()\n",
    "    m2 = Dict{Int, Int}()\n",
    "    mb = Int[]\n",
    "    \n",
    "    #println(\"Finish initialize\")\n",
    "    # Translation symmetry along n1-direction\n",
    "    for tag = 0: (dim-1)\n",
    "        if basis[tag + 1] == 1\n",
    "            for n1= 1:N1\n",
    "                ntag = cyclebits(n1, 0, tag, N1, N2)\n",
    "                if ntag > tag\n",
    "                    basis[ntag + 1] = 0\n",
    "                elseif (ntag == tag)\n",
    "                    basis[ntag + 1] = 0\n",
    "                    if k1%(N1/n1) == 0\n",
    "                        m1[tag] = n1\n",
    "                    end\n",
    "                    break\n",
    "                end\n",
    "            end\n",
    "        end\n",
    "    end\n",
    " \n",
    "    # Translation symmetry along n2-direction\n",
    "    basis = ones(Int, dim)\n",
    "    for tag = 0: (dim-1)\n",
    "        if basis[tag + 1] == 1\n",
    "            for n2= 1:N2\n",
    "                ntag = cyclebits(0, n2, tag, N1, N2)\n",
    "                if ntag > tag\n",
    "                    basis[ntag + 1] = 0\n",
    "                elseif (ntag == tag)\n",
    "                    basis[ntag + 1] = 0\n",
    "                    if k2%(N2/n2) == 0\n",
    "                        m2[tag] = n2\n",
    "                    end\n",
    "                    break\n",
    "                end\n",
    "            end\n",
    "        end\n",
    "    end\n",
    "   \n",
    "    for x in collect(keys(m1))\n",
    "        if x in collect(keys(m2))\n",
    "            append!(mb,[x])\n",
    "        end\n",
    "    end\n",
    "    return mb, m1, m2\n",
    "end"
   ]
  },
  {
   "cell_type": "code",
   "execution_count": 520,
   "metadata": {},
   "outputs": [
    {
     "name": "stdout",
     "output_type": "stream",
     "text": [
      "  0.062675 seconds (287.24 k allocations: 32.035 MiB, 6.49% gc time)\n",
      "Finished!\n"
     ]
    }
   ],
   "source": [
    "N1 = 2\n",
    "N2 = 3\n",
    "\n",
    "k1 = 0\n",
    "k2 = 0\n",
    "\n",
    "@time mb, m1, m2 = MomBasis(k1, k2, N1, N2)\n",
    "println(\"Finished!\")"
   ]
  },
  {
   "cell_type": "code",
   "execution_count": 496,
   "metadata": {},
   "outputs": [
    {
     "name": "stdout",
     "output_type": "stream",
     "text": [
      "Dict(2=>5,1=>6)\n",
      "Dict(7=>8,2=>5)\n"
     ]
    }
   ],
   "source": [
    "m1 = Dict{Int, Int}()\n",
    "m2 = Dict{Int, Int}()\n",
    "m1[2] = 5\n",
    "m1[1] = 6\n",
    "println(m1)\n",
    "m2[2] = 5\n",
    "m2[7] = 8\n",
    "println(m2)"
   ]
  },
  {
   "cell_type": "code",
   "execution_count": 454,
   "metadata": {},
   "outputs": [
    {
     "name": "stdout",
     "output_type": "stream",
     "text": [
      "  0.195224 seconds (243.32 k allocations: 132.265 MiB, 52.48% gc time)\n",
      "Finished!\n"
     ]
    }
   ],
   "source": [
    "N1 = 3\n",
    "N2 = 2\n",
    "\n",
    "k1 = 0\n",
    "k2 = 0\n",
    "\n",
    "@time mb, r1, r2 = MomBasis(k1, k2, N1, N2)\n",
    "println(\"Finished!\")"
   ]
  },
  {
   "cell_type": "code",
   "execution_count": 505,
   "metadata": {},
   "outputs": [
    {
     "name": "stdout",
     "output_type": "stream",
     "text": [
      "2\n"
     ]
    }
   ],
   "source": [
    "for x in collect(keys(m1))\n",
    "    if x in collect(keys(m2))\n",
    "        println(x)\n",
    "    end\n",
    "end"
   ]
  },
  {
   "cell_type": "code",
   "execution_count": 484,
   "metadata": {},
   "outputs": [
    {
     "name": "stdout",
     "output_type": "stream",
     "text": [
      "Dict(2=>5,1=>6)\n"
     ]
    }
   ],
   "source": [
    "println(m1)"
   ]
  },
  {
   "cell_type": "code",
   "execution_count": 485,
   "metadata": {},
   "outputs": [
    {
     "name": "stdout",
     "output_type": "stream",
     "text": [
      "Dict(7=>8,2=>5)\n"
     ]
    }
   ],
   "source": [
    "println(m2)"
   ]
  },
  {
   "cell_type": "code",
   "execution_count": null,
   "metadata": {},
   "outputs": [],
   "source": []
  }
 ],
 "metadata": {
  "kernelspec": {
   "display_name": "Julia 1.1.0",
   "language": "julia",
   "name": "julia-1.1"
  },
  "language_info": {
   "file_extension": ".jl",
   "mimetype": "application/julia",
   "name": "julia",
   "version": "1.1.0"
  },
  "latex_envs": {
   "LaTeX_envs_menu_present": true,
   "autoclose": false,
   "autocomplete": false,
   "bibliofile": "biblio.bib",
   "cite_by": "apalike",
   "current_citInitial": 1,
   "eqLabelWithNumbers": true,
   "eqNumInitial": 1,
   "hotkeys": {
    "equation": "Ctrl-E",
    "itemize": "Ctrl-I"
   },
   "labels_anchors": false,
   "latex_user_defs": false,
   "report_style_numbering": true,
   "user_envs_cfg": false
  },
  "toc": {
   "base_numbering": 1,
   "nav_menu": {},
   "number_sections": true,
   "sideBar": true,
   "skip_h1_title": false,
   "title_cell": "Table of Contents",
   "title_sidebar": "Contents",
   "toc_cell": false,
   "toc_position": {},
   "toc_section_display": true,
   "toc_window_display": false
  }
 },
 "nbformat": 4,
 "nbformat_minor": 2
}
