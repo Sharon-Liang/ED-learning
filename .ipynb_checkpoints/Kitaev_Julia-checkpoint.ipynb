{
 "cells": [
  {
   "cell_type": "markdown",
   "metadata": {},
   "source": [
    "Julia code for Kitaev model.\n",
    "\\section{Kitaev model without symmetry}"
   ]
  },
  {
   "cell_type": "code",
   "execution_count": 143,
   "metadata": {
    "code_folding": [
     11,
     23,
     38,
     115
    ]
   },
   "outputs": [
    {
     "data": {
      "text/plain": [
       "makeH (generic function with 1 method)"
      ]
     },
     "execution_count": 143,
     "metadata": {},
     "output_type": "execute_result"
    }
   ],
   "source": [
    "function index(N1::Int, N2::Int, c::Int, r::Int, atom::Int)\n",
    "    #Calculate the index of the atoms in the (r,c) unit cell\n",
    "    #A-sublattice atom = 0; B-subkattice: atom = 1\n",
    "    c = (c + N1) % N1 \n",
    "    r = (r + N2) % N2 \n",
    "    #println(\"(\",r,\",\",c,\")\")\n",
    "    n = r * N1 + c\n",
    "    ind = 2 * n + 1 + atom\n",
    "    return ind\n",
    "end\n",
    "\n",
    "function bits(tag::Int,i::Int, N1::Int, N2::Int)\n",
    "    # Chenck the i-th element of the binary representation of tag\n",
    "    SiteNum  = N1 * N2 * 2\n",
    "    mask = 2^(SiteNum - i)\n",
    "    n = tag & mask\n",
    "    if n == mask\n",
    "        return 1\n",
    "    else\n",
    "        return 0\n",
    "    end\n",
    "end\n",
    "    \n",
    "function StateConfig(tag::Int, N1::Int, N2::Int)\n",
    "    #=The configuration of the state with tag.\n",
    "    Inputs: tag: tag of a state\n",
    "            N1, N2: column and row numbers       \n",
    "    Outputs: binary form of tag. type: 1D array=#\n",
    "    \n",
    "    dim = 2^(N1 * N2 * 2)\n",
    "    if tag >= dim\n",
    "        return println(\"Error: The tag is out of range.\")\n",
    "    else\n",
    "        b = string(tag, base = 2, pad = N1 * N2 * 2)\n",
    "        return b\n",
    "    end\n",
    "end\n",
    "\n",
    "function flip(tag::Int, i::Int, j::Int, N1::Int, N2::Int)\n",
    "    #=Flip the spin on i,j site.\n",
    "    Inputs: tag: tag of a state\n",
    "            N1, N2: column and row numbers\n",
    "            i,j: position of spins that are flipped\n",
    "    Output: The tag of new state, type: int =#\n",
    "    SiteNum = N1 * N2 * 2\n",
    "    f = 2^(SiteNum - i) + 2^(SiteNum - j)\n",
    "    return ntag = xor(tag,f)\n",
    "end\n",
    "\n",
    "function KitaevRhom(J::Array{Float64,1}, N1::Int, N2::Int)\n",
    "    #=Kitaev Hamiltonian on N1 * N2 * 2 lattice\n",
    "    Inputes: N1, N2: column and row numbers\n",
    "             J: coupling constants\n",
    "    Outpus: The Non-zero Hamiltonian element H[i] is in the \n",
    "            position (row[i], col[i])\n",
    "            H, row, col : type: list =#\n",
    "    SiteNum = N1 * N2 * 2\n",
    "    dim = 2^SiteNum\n",
    "    \n",
    "    numNZero = 0  #count the number of non-zero element\n",
    "    data = Float64[]\n",
    "    row = Int[]\n",
    "    col = Int[]\n",
    "    for tag = 0: dim-1\n",
    "        #println(\"The state numnber is: \" , tag)\n",
    "        temp = Dict{Int, Float64}() # A temporay dict\n",
    "        \n",
    "        for r = 0: N2-1\n",
    "            for c = 0: N1-1\n",
    "                ind = index(N1, N2, c, r, 0)\n",
    "                # Sx Sx\n",
    "                next = index(N1, N2, c, r, 1)\n",
    "                \n",
    "                ntag = flip(tag, ind, next, N1, N2)\n",
    "                if ntag in keys(temp)\n",
    "                    temp[ntag] += -J[1] /4\n",
    "                else\n",
    "                    temp[ntag] = -J[1] /4\n",
    "                end  \n",
    "                \n",
    "                # Sy Sy\n",
    "                next = index(N1, N2, c - 1, r, 1)\n",
    "                \n",
    "                ntag = flip(tag, ind, next, N1, N2) \n",
    "                if ntag in keys(temp)\n",
    "                    temp[ntag] += J[2] * (bits(tag,ind, N1, N2) - 0.5) * (bits(tag,next, N1, N2) - 0.5)\n",
    "                else\n",
    "                    temp[ntag] = J[2] * (bits(tag,ind, N1, N2) - 0.5) * (bits(tag,next, N1, N2) - 0.5)\n",
    "                end\n",
    "                        \n",
    "                #Sz Sz\n",
    "                next = index(N1, N2, c, r - 1, 1)\n",
    "                    \n",
    "                if tag in keys(temp)\n",
    "                    temp[tag] += - J[3] * (bits(tag,ind, N1, N2) - 0.5) * (bits(tag,next, N1, N2) - 0.5)\n",
    "                else\n",
    "                    temp[tag] = - J[3] * (bits(tag,ind, N1, N2) - 0.5)* (bits(tag,next, N1, N2) - 0.5)\n",
    "                end\n",
    "            end\n",
    "        end\n",
    "                        \n",
    "        odTemp = sort(collect(keys(temp)))\n",
    "        for sf in odTemp\n",
    "            append!(col, [tag + 1])\n",
    "            append!(row, [sf + 1])\n",
    "            append!(data,[temp[sf]])\n",
    "            numNZero += 1\n",
    "        end\n",
    "    end\n",
    "    \n",
    "    #println(\"non zero elemens number =\" , numNZero)\n",
    "    #println(\"Percentage =\" , numNZero/(dim * dim) * 100,\"%\")\n",
    "    return col, row, data\n",
    "end\n",
    "\n",
    "function makeH(col, row, data)\n",
    "    H = sparse(row, col, data)\n",
    "    return H\n",
    "end\n"
   ]
  },
  {
   "cell_type": "code",
   "execution_count": 147,
   "metadata": {
    "scrolled": true
   },
   "outputs": [
    {
     "name": "stdout",
     "output_type": "stream",
     "text": [
      "[-0.198493, -0.198493, -0.198493, -0.195481, -0.195481, -0.194736]\n",
      "  9.477507 seconds (17.57 M allocations: 2.170 GiB, 5.98% gc time)\n"
     ]
    }
   ],
   "source": [
    "using SparseArrays\n",
    "using Arpack\n",
    "\n",
    "@time begin\n",
    "    N1 = 3\n",
    "    N2 = 3\n",
    "    J = [1.0,1.0,1.0]\n",
    "\n",
    "    col, row, data = KitaevRhom(J, N1, N2)\n",
    "    H =  makeH(col, row, data)\n",
    "    \n",
    "    e,x = eigs(H, which = :SR)\n",
    "    println(e/(N1*N2*2))\n",
    "end\n"
   ]
  },
  {
   "cell_type": "code",
   "execution_count": 148,
   "metadata": {},
   "outputs": [
    {
     "data": {
      "text/plain": [
       "BenchmarkTools.Trial: \n",
       "  memory estimate:  27.06 MiB\n",
       "  allocs estimate:  200753\n",
       "  --------------\n",
       "  minimum time:     15.588 ms (10.38% GC)\n",
       "  median time:      16.253 ms (10.43% GC)\n",
       "  mean time:        16.819 ms (12.61% GC)\n",
       "  maximum time:     21.749 ms (25.91% GC)\n",
       "  --------------\n",
       "  samples:          298\n",
       "  evals/sample:     1"
      ]
     },
     "execution_count": 148,
     "metadata": {},
     "output_type": "execute_result"
    }
   ],
   "source": [
    "using BenchmarkTools\n",
    "N1 = 2\n",
    "N2 = 3\n",
    "J = [1.0,1.0,1.0]\n",
    "@benchmark KitaevRhom(J, N1, N2)"
   ]
  },
  {
   "cell_type": "markdown",
   "metadata": {},
   "source": [
    "\\section{Kitaev model with translation symmetry}"
   ]
  },
  {
   "cell_type": "code",
   "execution_count": 29,
   "metadata": {
    "code_folding": [
     11,
     23,
     38,
     49,
     72
    ]
   },
   "outputs": [
    {
     "data": {
      "text/plain": [
       "MomBasis (generic function with 1 method)"
      ]
     },
     "execution_count": 29,
     "metadata": {},
     "output_type": "execute_result"
    }
   ],
   "source": [
    "function index(N1::Int, N2::Int, c::Int, r::Int, atom::Int)\n",
    "    #Calculate the index of the atoms in the (r,c) unit cell\n",
    "    #A-sublattice atom = 0; B-subkattice: atom = 1\n",
    "    c = (c + N1) % N1 \n",
    "    r = (r + N2) % N2 \n",
    "    #println(\"(\",r,\",\",c,\")\")\n",
    "    n = r * N1 + c\n",
    "    ind = 2 * n + 1 + atom\n",
    "    return ind\n",
    "end\n",
    "\n",
    "function bits(tag::Int,i::Int, N1::Int, N2::Int)\n",
    "    # Chenck the i-th element of the binary representation of tag\n",
    "    SiteNum  = N1 * N2 * 2\n",
    "    mask = 2^(SiteNum - i)\n",
    "    n = tag & mask\n",
    "    if n == mask\n",
    "        return 1\n",
    "    else\n",
    "        return 0\n",
    "    end\n",
    "end\n",
    "\n",
    "function StateConfig(tag::Int, N1::Int, N2::Int)\n",
    "    #=The configuration of the state with tag.\n",
    "    Inputs: tag: tag of a state\n",
    "            N1, N2: column and row numbers       \n",
    "    Outputs: binary form of tag. type: 1D array=#\n",
    "    \n",
    "    dim = 2^(N1 * N2 * 2)\n",
    "    if tag >= dim\n",
    "        return println(\"Error: The tag is out of range.\")\n",
    "    else\n",
    "        b = string(tag, base = 2, pad = N1 * N2 * 2)\n",
    "        return b\n",
    "    end\n",
    "end\n",
    "\n",
    "function flip(tag::Int, i::Int, j::Int, N1::Int, N2::Int)\n",
    "    #=Flip the spin on i,j site.\n",
    "    Inputs: tag: tag of a state\n",
    "            N1, N2: column and row numbers\n",
    "            i,j: position of spins that are flipped\n",
    "    Output: The tag of new state, type: int =#\n",
    "    SiteNum = N1 * N2 * 2\n",
    "    f = 2^(SiteNum - i) + 2^(SiteNum - j)\n",
    "    return ntag = xor(tag,f)\n",
    "end\n",
    "\n",
    "function cyclebits(tag::Int, n1::Int,n2::Int, N1::Int, N2::Int)\n",
    "    #=Performs a cyclic permutations of n1 steps to the right and n2 steps upward.\n",
    "       Inputs: tag: tag of the reference state\n",
    "               n1: cycle times of n1-direction, columns,if n1=0, no cycle in columns\n",
    "               n2: cycle times of n2-direction, rows,if n2=0, no cycle in rows\n",
    "               N1: number of columns\n",
    "               N2: number of rows\n",
    "       Outputs: ntag: the tag of the outcoming state=#\n",
    "    SiteNum = N1 * N2 * 2\n",
    "    a = reshape(1: 2: SiteNum, N1, N2)\n",
    "    b = reshape(2: 2: SiteNum, N1, N2)\n",
    "    a = circshift(a, (n1, n2))\n",
    "    b = circshift(b, (n1, n2))\n",
    "    #ncfig = reshape(b, (SiteNum, 1))\n",
    "    #println(ncfig)\n",
    "    ntag = 0\n",
    "    for i = 1: (N1*N2)\n",
    "        ntag += 2^(SiteNum - 2*i + 1 ) * bits(tag, a[i], N1, N2)\n",
    "        ntag += 2^(SiteNum - 2*i) * bits(tag, b[i], N1, N2)\n",
    "    end  \n",
    "    return ntag\n",
    "end\n",
    "\n",
    "function MomBasis(k1::Int, k2::Int, N1::Int, N2::Int)\n",
    "    #=Momentum basis list of a given k1, k2\n",
    "       Inputs: k1: momentum in n1-direction\n",
    "               k2: momentum in n2-direction\n",
    "               N1: number of columns\n",
    "               N2: number of rows\n",
    "       Outpus: mbasis: momentum basis list\n",
    "               Ra: list of corresponding cycle period \n",
    "                   R1: n1-direction \n",
    "                   R2: n2-direction=#\n",
    "    dim = 2^(N1 * N2 * 2)\n",
    "    \n",
    "    mask1 = - ones(Int, dim)\n",
    "    mask2 = - ones(Int, dim)\n",
    "    basis = [x for x = 1: dim]\n",
    "        \n",
    "    #println(\"Finish initialize\")\n",
    "    # Translation symmetry along n1-direction\n",
    "    for tag = 0: (dim - 1)\n",
    "        if mask1[tag + 1] == -1\n",
    "            for n1 = 1: N1\n",
    "                ntag = cyclebits(tag, n1, 0, N1, N2)\n",
    "                if ntag > tag\n",
    "                    mask1[ntag + 1] = 0\n",
    "                elseif ntag == tag\n",
    "                    if k1%(N1/n1) == 0\n",
    "                        mask1[ntag + 1] = n1\n",
    "                    else\n",
    "                        mask1[ntag + 1] = 0\n",
    "                    end\n",
    "                    #println(m1)\n",
    "                    break\n",
    "                elseif ntag < tag\n",
    "                    if mask1[ntag + 1] < 0\n",
    "                        println(\"missing one element at n1!\")\n",
    "                    end\n",
    "                end\n",
    "            end\n",
    "        end\n",
    "    end\n",
    "    \n",
    "    \n",
    "    # Translation symmetry along n2-direction\n",
    "    for tag = 0: (dim - 1)\n",
    "        if mask2[tag + 1] == -1\n",
    "            for n2 = 1: N2\n",
    "                ntag = cyclebits(tag, 0, n2, N1, N2)\n",
    "                if ntag > tag\n",
    "                    mask2[ntag + 1] = 0\n",
    "                elseif ntag == tag\n",
    "                    if k2%(N2/n2) == 0\n",
    "                        mask2[ntag + 1] = n2\n",
    "                    else\n",
    "                        mask2[ntag + 1] = 0\n",
    "                    end\n",
    "                    #println(m1)\n",
    "                    break\n",
    "                elseif ntag < tag\n",
    "                    if mask2[ntag + 1] < 0\n",
    "                        println(\"missing one element at n2!\")\n",
    "                    end\n",
    "                end\n",
    "            end\n",
    "        end\n",
    "    end\n",
    "    \n",
    "    for i = 1:dim\n",
    "        mask1[i] = mask1[i] * mask2[i]\n",
    "        basis[i] = basis[i] * sign(mask1[i])\n",
    "    end\n",
    "    \n",
    "    ra = filter!(x->x!=0, mask1)\n",
    "    mb = filter!(x->x!=0, basis)\n",
    "    mb = replace!(x -> x-1, mb)\n",
    "    return mb, ra\n",
    "end"
   ]
  },
  {
   "cell_type": "code",
   "execution_count": 107,
   "metadata": {},
   "outputs": [
    {
     "name": "stdout",
     "output_type": "stream",
     "text": [
      "Finish!\n"
     ]
    }
   ],
   "source": [
    "using BenchmarkTools\n",
    "N1 = 2\n",
    "N2 = 3\n",
    "\n",
    "k1 = 0\n",
    "k2 = 0\n",
    "mb, ra = MomBasis(k1, k2, N1, N2)\n",
    "println(\"Finish!\")"
   ]
  },
  {
   "cell_type": "markdown",
   "metadata": {},
   "source": [
    "\\section{Hamiltonian matrix}"
   ]
  },
  {
   "cell_type": "code",
   "execution_count": 130,
   "metadata": {
    "code_folding": [
     6,
     42
    ]
   },
   "outputs": [
    {
     "data": {
      "text/plain": [
       "KitaevH (generic function with 1 method)"
      ]
     },
     "execution_count": 130,
     "metadata": {},
     "output_type": "execute_result"
    }
   ],
   "source": [
    "# Hamiltonian matrix\n",
    "function makeH(col, row, data)\n",
    "    H = sparse(row, col, data)\n",
    "    return H\n",
    "end\n",
    "\n",
    "function findstate(tag::Int, mb::Array{Int,1}, N1::Int, N2::Int)\n",
    "    #=Find the reference state of an arbitrary state.\n",
    "       Inputs: tag :tag of the input state\n",
    "               mbasis: list of momentum basis\n",
    "               N1, N2: number of columns and rows\n",
    "       Outputs: ntag: tag of the corresponding reference state\n",
    "                l : translation steps\n",
    "                ntag and l will return negative values if tag is not in mbasis.=#\n",
    "    \n",
    "    SiteNum = N1 * N2 * 2\n",
    "    \n",
    "    l = - ones(Int,2)\n",
    "    count = 0\n",
    "    \n",
    "    for n1 = 0: N1-1\n",
    "        ntag = cyclebits(tag, n1, 0, N1, N2)\n",
    "        for n2 = 0: N2-1\n",
    "            ntag1 = cyclebits(ntag, 0, n2, N1, N2)\n",
    "            if ntag1 in mb\n",
    "                l[1] = n1 \n",
    "                l[2] = n2 \n",
    "                break\n",
    "            end\n",
    "            count += 1\n",
    "        end\n",
    "        if ntag1 in mb\n",
    "            break\n",
    "        end\n",
    "    end\n",
    "        \n",
    "    if count == N1 * N2\n",
    "        ntag1 = -1\n",
    "    end\n",
    "    return ntag1, l\n",
    "end\n",
    "                           \n",
    "function KitaevH(J::Array{Float64,1}, N1::Int, N2::Int, k1::Int, k2::Int)\n",
    "    #=Kitaev Hamiltonian on N1 * N2 * 2 lattice for a given k (with translation symmetry)\n",
    "       N1: number of unit cells in n1-direction, column number\n",
    "       N2: number of unit cells in n1-direction, row number\n",
    "    \n",
    "       Inputes: \n",
    "           N1, N2: width and length of the rhomboid cluster\n",
    "           k1, k2: momentund\n",
    "        \n",
    "       Outputs: The Non-zero Hamiltonian element H[i] is in the \n",
    "                position (row[i], col[i])\n",
    "                H, row, col : type: list\n",
    "        =#\n",
    "    mb, ra = MomBasis(k1, k2, N1, N2)\n",
    "   \n",
    "    dim = length(mb)\n",
    "    fac = [-1im * 2 * pi / N1, -1im* 2 * pi / N2]\n",
    "    \n",
    "    base_dic = Dict{Int,Int}()\n",
    "    for i = 1: dim\n",
    "        base_dic[mb[i]] = i\n",
    "    end\n",
    "    \n",
    "    data = Complex[]\n",
    "    row = Int[]\n",
    "    col = Int[]\n",
    "    \n",
    "    for tag in mb\n",
    "        ind  = base_dic[tag]\n",
    "        temp = Dict{Int, Complex}() # A temporay dict\n",
    "        \n",
    "        for r = 0: N2-1\n",
    "            for c = 0: N1-1\n",
    "                ini = index(N1, N2, c, r, 0)\n",
    "                \n",
    "                # Sx-Sx\n",
    "                next = index(N1, N2, c, r, 1)\n",
    "                \n",
    "                ntag = flip(tag, ini, next, N1, N2)\n",
    "                rtag, l = findstate(ntag, mb, N1, N2)\n",
    "                if rtag > 0\n",
    "                    nind = base_dic[rtag]\n",
    "                    phase = exp(fac[1]*k1*l[1] + fac[2]*k2*l[2]) * sqrt(ra[ind]/ra[nind])\n",
    "                    if nind in keys(temp)\n",
    "                        temp[nind] += -J[1]/4 * phase\n",
    "                    else\n",
    "                        temp[nind] = -J[1]/4 * phase\n",
    "                    end\n",
    "                end\n",
    "                                \n",
    "                # Sy-Sy\n",
    "                next = index(N1, N2, c - 1, r, 1)\n",
    "                    \n",
    "                ntag = flip(tag, ini, next, N1, N2)\n",
    "                rtag, l = findstate(ntag, mb, N1, N2)\n",
    "    \n",
    "                if rtag > 0\n",
    "                    nind = base_dic[rtag]\n",
    "                    phase = exp(fac[1]*k1*l[1] + fac[2]*k2*l[2]) * sqrt(ra[ind]/ra[nind])\n",
    "                    \n",
    "                    if nind in keys(temp)\n",
    "                        temp[nind] += J[2]*(bits(tag, ini, N1, N2)-0.5)*(bits(tag, next, N1, N2)-0.5)*phase           \n",
    "                    else\n",
    "                        temp[nind] = J[2]*(bits(tag, ini, N1, N2)-0.5)*(bits(tag, next, N1, N2)-0.5)*phase\n",
    "                    end\n",
    "                end\n",
    "                                    \n",
    "                # Sz-Sz\n",
    "                next = index(N1, N2, c, r - 1, 1)\n",
    "                    \n",
    "                if ind in keys(temp)\n",
    "                    temp[ind] += - J[2] * (bits(tag, ini, N1, N2)-0.5)*(bits(tag, next, N1, N2)-0.5)\n",
    "                else\n",
    "                    temp[ind] = - J[2] *(bits(tag, ini, N1, N2)-0.5)*(bits(tag, next, N1, N2)-0.5)\n",
    "                end\n",
    "            end\n",
    "        end\n",
    "                        \n",
    "        odTemp = sort!(collect(keys(temp)))\n",
    "        for sf in odTemp\n",
    "            append!(col,[ind])\n",
    "            append!(row,[sf])\n",
    "            append!(data,[temp[sf]])\n",
    "        end\n",
    "    end\n",
    "    return col, row, data\n",
    "end\n",
    "\n",
    "#function MfieldH()\n",
    "#end\n",
    "\n",
    "#function NHeisenbergH()\n",
    "#end\n",
    "\n",
    "#function NNHeisenbergH()\n",
    "#end"
   ]
  },
  {
   "cell_type": "code",
   "execution_count": 135,
   "metadata": {},
   "outputs": [
    {
     "name": "stdout",
     "output_type": "stream",
     "text": [
      "Complex{Float64}[-0.204173-3.75857e-17im, -0.204111+3.69352e-17im, -0.195232+2.97836e-18im, -0.194739+3.11177e-18im, -0.193645+2.79405e-18im, -0.193645+2.62339e-17im]\n",
      "  0.071612 seconds (207.27 k allocations: 21.298 MiB, 6.88% gc time)\n"
     ]
    }
   ],
   "source": [
    "using SparseArrays\n",
    "using Arpack\n",
    "\n",
    "@time begin\n",
    "    N1 = 2\n",
    "    N2 = 3\n",
    "    k1 = 0\n",
    "    k2 = 0\n",
    "    J = - [1.0,1.0,1.0]\n",
    "\n",
    "    col, row, data = KitaevH(J, N1, N2, k1, k2)\n",
    "    H =  makeH(col, row, data)\n",
    "    \n",
    "    e,x = eigs(H, which = :SR)\n",
    "    println(e/(N1*N2*2))\n",
    "end\n"
   ]
  },
  {
   "cell_type": "code",
   "execution_count": 136,
   "metadata": {},
   "outputs": [
    {
     "data": {
      "text/plain": [
       "BenchmarkTools.Trial: \n",
       "  memory estimate:  20.07 MiB\n",
       "  allocs estimate:  194172\n",
       "  --------------\n",
       "  minimum time:     30.752 ms (0.00% GC)\n",
       "  median time:      34.706 ms (5.22% GC)\n",
       "  mean time:        34.815 ms (6.03% GC)\n",
       "  maximum time:     83.437 ms (57.83% GC)\n",
       "  --------------\n",
       "  samples:          144\n",
       "  evals/sample:     1"
      ]
     },
     "execution_count": 136,
     "metadata": {},
     "output_type": "execute_result"
    }
   ],
   "source": [
    "using BenchmarkTools\n",
    "@benchmark col, row, data = KitaevH(J, N1, N2, k1, k2)"
   ]
  },
  {
   "cell_type": "code",
   "execution_count": 132,
   "metadata": {},
   "outputs": [
    {
     "data": {
      "text/plain": [
       "2"
      ]
     },
     "execution_count": 132,
     "metadata": {},
     "output_type": "execute_result"
    }
   ],
   "source": [
    "real(2 + 1im)"
   ]
  },
  {
   "cell_type": "code",
   "execution_count": null,
   "metadata": {},
   "outputs": [],
   "source": []
  }
 ],
 "metadata": {
  "kernelspec": {
   "display_name": "Julia 1.1.0",
   "language": "julia",
   "name": "julia-1.1"
  },
  "language_info": {
   "file_extension": ".jl",
   "mimetype": "application/julia",
   "name": "julia",
   "version": "1.1.0"
  },
  "latex_envs": {
   "LaTeX_envs_menu_present": true,
   "autoclose": false,
   "autocomplete": false,
   "bibliofile": "biblio.bib",
   "cite_by": "apalike",
   "current_citInitial": 1,
   "eqLabelWithNumbers": true,
   "eqNumInitial": 1,
   "hotkeys": {
    "equation": "Ctrl-E",
    "itemize": "Ctrl-I"
   },
   "labels_anchors": false,
   "latex_user_defs": false,
   "report_style_numbering": true,
   "user_envs_cfg": false
  },
  "toc": {
   "base_numbering": 1,
   "nav_menu": {},
   "number_sections": true,
   "sideBar": true,
   "skip_h1_title": false,
   "title_cell": "Table of Contents",
   "title_sidebar": "Contents",
   "toc_cell": false,
   "toc_position": {},
   "toc_section_display": true,
   "toc_window_display": false
  }
 },
 "nbformat": 4,
 "nbformat_minor": 2
}
