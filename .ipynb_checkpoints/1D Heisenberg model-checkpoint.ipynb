{
 "cells": [
  {
   "cell_type": "markdown",
   "metadata": {},
   "source": [
    "This is a practice of using ED method to solve 1D $S=\\frac{1}{2}$ Heisenberg Model. Follow the instruction of arXiv: 1102.4006v1 and the ED example of Wei Zheng."
   ]
  },
  {
   "cell_type": "markdown",
   "metadata": {},
   "source": [
    "\\section{Hamiltonian}\n",
    "\\begin{equation}\n",
    "    H = \\sum_{i=1, \\alpha}^{L-1} J_\\alpha S_i^\\alpha  S_{i+1}^\\alpha\n",
    "\\end{equation}\n",
    "\n",
    "where $L$ is the total number of spins, $\\alpha = x,y,z$.\n",
    "\n",
    "Here we use the XXZ model, in which $J_x = J_y = J_{xy}$:\n",
    "\\begin{align}\n",
    "    H_{XXZ} & = \\sum_{i=1}^{L-1} [J_{xy} (S_i^x  S_{i+1}^x + S_i^y  S_{i+1}^y) + J_z S_i^z  S_{i+1}^z]\\\\\n",
    "            & = \\sum_{i=1}^{L-1} [\\frac{J_{xy}}{2} (S_i^+  S_{i+1}^- + S_{i+1}^+ S_i^-  ) + J_z S_i^z  S_{i+1}^z]\n",
    "\\end{align}\n",
    "\n",
    "where $S^\\pm = S^x \\pm i S^y$."
   ]
  },
  {
   "cell_type": "markdown",
   "metadata": {},
   "source": [
    "\\section{Basis generation}\n",
    "\n",
    "We use the eigen states of course we $S^z$ as basis states and use $|0 \\rangle$ to represent $|\\downarrow \\rangle$ and $|1 \\rangle$ to represent $|\\uparrow \\rangle$. The states can thus be represented by a set of binary numbers. Moreover, we can use the corresponding dicimal number of each state as its tag.\n",
    "\n",
    "For a system with N sites, the dimension of Hilbert space is $2^N$. The Hilbert space dimension can be furtuer reduced by applying symmetries and conservation laws.\n",
    "\n",
    "For fermions and hardcore bosons, the occupation number of each site can only be $0$ or $1$, the basis generation always seems simple and straightforward. However, when comes to bosons, we will need a little trick for the basis generation. Here, we only take the easy way and a more general and complicate method will be introduced in the note of solving Bose Hubbard model.\n",
    "\n",
    "For tutorial purposes, we give the example in both non-conserved $S_z$ and conserved $S_z$ case. \n",
    "\n",
    "\\subsection{Non-conserved $S_z$}"
   ]
  },
  {
   "cell_type": "code",
   "execution_count": null,
   "metadata": {},
   "outputs": [],
   "source": []
  },
  {
   "cell_type": "markdown",
   "metadata": {},
   "source": [
    "\\subsection{Conserved $S_z$}"
   ]
  },
  {
   "cell_type": "code",
   "execution_count": null,
   "metadata": {},
   "outputs": [],
   "source": []
  }
 ],
 "metadata": {
  "kernelspec": {
   "display_name": "Python 3",
   "language": "python",
   "name": "python3"
  },
  "language_info": {
   "codemirror_mode": {
    "name": "ipython",
    "version": 3
   },
   "file_extension": ".py",
   "mimetype": "text/x-python",
   "name": "python",
   "nbconvert_exporter": "python",
   "pygments_lexer": "ipython3",
   "version": "3.7.3"
  },
  "latex_envs": {
   "LaTeX_envs_menu_present": true,
   "autoclose": true,
   "autocomplete": true,
   "bibliofile": "biblio.bib",
   "cite_by": "apalike",
   "current_citInitial": 1,
   "eqLabelWithNumbers": true,
   "eqNumInitial": 1,
   "hotkeys": {
    "equation": "Ctrl-E",
    "itemize": "Ctrl-I"
   },
   "labels_anchors": false,
   "latex_user_defs": false,
   "report_style_numbering": true,
   "user_envs_cfg": false
  },
  "toc": {
   "base_numbering": 1,
   "nav_menu": {},
   "number_sections": true,
   "sideBar": true,
   "skip_h1_title": false,
   "title_cell": "Table of Contents",
   "title_sidebar": "Contents",
   "toc_cell": false,
   "toc_position": {},
   "toc_section_display": true,
   "toc_window_display": false
  }
 },
 "nbformat": 4,
 "nbformat_minor": 2
}
