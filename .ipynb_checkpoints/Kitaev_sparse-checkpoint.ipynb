{
 "cells": [
  {
   "cell_type": "markdown",
   "metadata": {},
   "source": [
    "This is the ED code of $N_1 \\times N_2$ Kitaev model. Here we use scipy.sparse to generate the Hamiltonian matrix.\n",
    "\n",
    "\\section{Kitaev Hamiltonian}\n",
    "\n",
    "\\begin{equation}\n",
    "    H_K = - \\sum_{<j,k>_\\alpha} J_\\alpha S_j^\\alpha S_k^\\alpha\n",
    "\\end{equation}\n",
    "where $\\alpha = x, y, z$."
   ]
  },
  {
   "cell_type": "code",
   "execution_count": 106,
   "metadata": {
    "code_folding": []
   },
   "outputs": [],
   "source": [
    "import numpy as np\n",
    "import scipy.sparse as sps\n",
    "from scipy.sparse import identity\n",
    "from scipy.sparse.linalg import eigsh\n",
    "\n",
    "def index(N1, N2, c, r, atom = 'A'):\n",
    "    '''Calculate the index of the atoms in the (r,c) unit cell'''\n",
    "    c = c % N1\n",
    "    r = r % N2\n",
    "    \n",
    "    n = r * N1 + c\n",
    "    if atom == 'A':\n",
    "        ind = 2 * n\n",
    "    elif atom == 'B':\n",
    "        ind = 2 * n + 1\n",
    "    else:\n",
    "        return print('ERROR: The atom index should be A or B.')\n",
    "    return ind\n",
    "\n",
    "def KitaevRhom_sparse(J, N1, N2): #default periodic boundary condition\n",
    "    \n",
    "    SiteNum = N1 * N2 * 2\n",
    "    dim = pow(2,SiteNum)\n",
    "    Hk = sps.csc_matrix((dim,dim))\n",
    "    \n",
    "    # define Pauli matrices\n",
    "    sx = sps.csc_matrix(0.5 * np.array([[0,1],[1,0]]))\n",
    "    sy = sps.csc_matrix(0.5 * np.array([[0,-1j],[1j,0]]))\n",
    "    sz = sps.csc_matrix(0.5 * np.array([[1,0],[0,-1]]))\n",
    "    \n",
    "    # interactions\n",
    "    SxSx = J[0] * sps.kron(sx,sx)\n",
    "    \n",
    "    SySy = J[1] * sps.kron(sy,sy)\n",
    "    \n",
    "    midy_b = index(N1, N2, -1, 0, atom = 'B') - index(N1, N2, 0, 0, atom = 'A')\n",
    "    SySy_b = J[1] * sps.kron(sy, sps.kron(identity(pow(2, midy_b - 1)), sy))\n",
    "                      \n",
    "    midz = index(N1, N2, 0, 1, atom = 'A') - index(N1, N2, 0, 0, atom = 'B')\n",
    "    SzSz = J[2] * sps.kron(sz, sps.kron(identity(pow(2, midz - 1)), sz))\n",
    "    \n",
    "    midz_b = index(N1, N2, 0, -1, atom = 'B') - index(N1, N2, 0, 0, atom = 'A')\n",
    "    SzSz_b = J[2] * sps.kron(sz, sps.kron(identity(pow(2, midz_b - 1)), sz))\n",
    "        \n",
    "    # define Kitaev Hamiltonian\n",
    "    for r in range(N2):\n",
    "        for c in range(N1):\n",
    "            n = index(N1, N2, c, r, atom = 'A')\n",
    "            '''Sx - Sx'''\n",
    "            Hk += sps.kron(identity(pow(2,n)), sps.kron(SxSx, identity(pow(2,SiteNum - n - 2))))\n",
    "            \n",
    "            '''Sy - Sy'''\n",
    "            if c == 0:\n",
    "                Hk += sps.kron(identity(pow(2,n)), sps.kron(SySy_b, identity(pow(2, SiteNum - n - midy_b -1 ))))\n",
    "            else:\n",
    "                Hk += sps.kron(identity(pow(2,n-1)), sps.kron(SySy, identity(pow(2, SiteNum - n - 1))))\n",
    "    \n",
    "            '''Sz-Sz'''\n",
    "            if r == 0:\n",
    "                Hk += sps.kron(identity(pow(2,n)), sps.kron(SzSz_b, identity(pow(2, SiteNum - n - midz_b - 1))))\n",
    "            else:\n",
    "                Hk += sps.kron(identity(pow(2,n - midz)), sps.kron(SzSz, identity(pow(2, SiteNum - n - 1))))\n",
    "    return Hk\n"
   ]
  },
  {
   "cell_type": "code",
   "execution_count": 107,
   "metadata": {},
   "outputs": [
    {
     "name": "stdout",
     "output_type": "stream",
     "text": [
      "[-0.20417256 -0.20417256 -0.20417256 -0.19523157 -0.20417256]\n"
     ]
    }
   ],
   "source": [
    "J = np.ones(3)\n",
    "N1 = 2\n",
    "N2 = 3\n",
    "SiteNum = N1 * N2 * 2\n",
    "Hk = KitaevRhom_sparse(J, N1, N2)\n",
    "from scipy.sparse.linalg import eigsh\n",
    "e,v = eigsh(Hk, k = 5,which = 'SA')\n",
    "print(e/SiteNum)\n"
   ]
  },
  {
   "cell_type": "code",
   "execution_count": 75,
   "metadata": {},
   "outputs": [
    {
     "name": "stdout",
     "output_type": "stream",
     "text": [
      "  (2, 0)\t5.0\n",
      "  (3, 0)\t15.0\n",
      "  (2, 1)\t10.0\n",
      "  (3, 1)\t20.0\n",
      "  (0, 2)\t2.0\n",
      "  (1, 2)\t6.0\n",
      "  (0, 3)\t4.0\n",
      "  (1, 3)\t8.0\n"
     ]
    }
   ],
   "source": [
    "A = sps.csr_matrix(np.array([[0, 2], [5, 0]]))\n",
    "B = sps.csr_matrix(np.array([[1, 2], [3, 4]]))\n",
    "del C\n",
    "C = sps.csc_matrix((4,4))\n",
    "C += sps.kron(A,B)\n",
    "print(C)"
   ]
  },
  {
   "cell_type": "code",
   "execution_count": null,
   "metadata": {},
   "outputs": [],
   "source": []
  }
 ],
 "metadata": {
  "kernelspec": {
   "display_name": "Python 3",
   "language": "python",
   "name": "python3"
  },
  "language_info": {
   "codemirror_mode": {
    "name": "ipython",
    "version": 3
   },
   "file_extension": ".py",
   "mimetype": "text/x-python",
   "name": "python",
   "nbconvert_exporter": "python",
   "pygments_lexer": "ipython3",
   "version": "3.7.3"
  },
  "latex_envs": {
   "LaTeX_envs_menu_present": true,
   "autoclose": false,
   "autocomplete": false,
   "bibliofile": "biblio.bib",
   "cite_by": "apalike",
   "current_citInitial": 1,
   "eqLabelWithNumbers": true,
   "eqNumInitial": 1,
   "hotkeys": {
    "equation": "Ctrl-E",
    "itemize": "Ctrl-I"
   },
   "labels_anchors": false,
   "latex_user_defs": false,
   "report_style_numbering": true,
   "user_envs_cfg": false
  },
  "toc": {
   "base_numbering": 1,
   "nav_menu": {},
   "number_sections": true,
   "sideBar": true,
   "skip_h1_title": false,
   "title_cell": "Table of Contents",
   "title_sidebar": "Contents",
   "toc_cell": false,
   "toc_position": {},
   "toc_section_display": true,
   "toc_window_display": false
  }
 },
 "nbformat": 4,
 "nbformat_minor": 2
}
