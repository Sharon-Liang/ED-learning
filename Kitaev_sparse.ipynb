{
 "cells": [
  {
   "cell_type": "markdown",
   "metadata": {},
   "source": [
    "This is the ED code of $N_1 \\times N_2$ Kitaev model. Here we use scipy.sparse to generate the Hamiltonian matrix.\n",
    "\n",
    "\\section{Kitaev Hamiltonian}\n",
    "\n",
    "\\begin{equation}\n",
    "    H_K = - \\sum_{<j,k>_\\alpha} J_\\alpha S_j^\\alpha S_k^\\alpha\n",
    "\\end{equation}\n",
    "where $\\alpha = x, y, z$."
   ]
  },
  {
   "cell_type": "code",
   "execution_count": 6,
   "metadata": {
    "code_folding": [
     9
    ]
   },
   "outputs": [],
   "source": [
    "import numpy as np\n",
    "import scipy.sparse as sps\n",
    "from scipy.sparse import identity\n",
    "from scipy.sparse.linalg import eigsh\n",
    "\n",
    "def unit(N):\n",
    "    p = identity(pow(2,N))\n",
    "    return p\n",
    "\n",
    "def index(N1, N2, c, r, atom = 'A'):\n",
    "    '''Calculate the index of the atoms in the (r,c) unit cell'''\n",
    "    c = c % N1\n",
    "    r = r % N2\n",
    "    \n",
    "    n = r * N1 + c\n",
    "    if atom == 'A':\n",
    "        ind = 2 * n\n",
    "    elif atom == 'B':\n",
    "        ind = 2 * n + 1\n",
    "    else:\n",
    "        return print('ERROR: The atom index should be A or B.')\n",
    "    return ind\n",
    "\n",
    "def KitaevRhom_sparse(J, N1, N2): #default periodic boundary condition\n",
    "    \n",
    "    SiteNum = N1 * N2 * 2\n",
    "    dim = pow(2,SiteNum)\n",
    "    Hk = sps.csc_matrix((dim,dim))\n",
    "    \n",
    "    # define Pauli matrices\n",
    "    sx = sps.csc_matrix(0.5 * np.array([[0,1],[1,0]]))\n",
    "    sy = sps.csc_matrix(0.5 * np.array([[0,-1j],[1j,0]]))\n",
    "    sz = sps.csc_matrix(0.5 * np.array([[1,0],[0,-1]]))\n",
    "    \n",
    "    # interactions\n",
    "    SxSx = -J[0] * sps.kron(sx,sx)\n",
    "    \n",
    "    SySy = -J[1] * sps.kron(sy,sy)\n",
    "    \n",
    "    midy_b = index(N1, N2, -1, 0, atom = 'B') - index(N1, N2, 0, 0, atom = 'A')\n",
    "    SySy_b = -J[1] * sps.kron(sy, sps.kron(unit(midy_b - 1), sy))\n",
    "                      \n",
    "    midz = index(N1, N2, 0, 1, atom = 'A') - index(N1, N2, 0, 0, atom = 'B')\n",
    "    SzSz = -J[2] * sps.kron(sz, sps.kron(unit(midz - 1), sz))\n",
    "    \n",
    "    midz_b = index(N1, N2, 0, -1, atom = 'B') - index(N1, N2, 0, 0, atom = 'A')\n",
    "    SzSz_b = -J[2] * sps.kron(sz, sps.kron(unit(midz_b - 1), sz))\n",
    "        \n",
    "    # define Kitaev Hamiltonian\n",
    "    for r in range(N2):\n",
    "        for c in range(N1):\n",
    "            n = index(N1, N2, c, r, atom = 'A')\n",
    "            '''Sx - Sx'''\n",
    "            Hk += sps.kron(unit(n), sps.kron(SxSx, unit(SiteNum - n - 2)))\n",
    "            \n",
    "            '''Sy - Sy'''\n",
    "            if c == 0:\n",
    "                Hk += sps.kron(unit(n), sps.kron(SySy_b, unit(SiteNum - n - midy_b -1)))\n",
    "            else:\n",
    "                Hk += sps.kron(unit(n-1), sps.kron(SySy, unit(SiteNum - n - 1)))\n",
    "    \n",
    "            '''Sz-Sz'''\n",
    "            if r == 0:\n",
    "                Hk += sps.kron(unit(n), sps.kron(SzSz_b,unit(SiteNum - n - midz_b - 1)))\n",
    "            else:\n",
    "                Hk += sps.kron(unit(n - midz), sps.kron(SzSz, unit(SiteNum - n - 1)))\n",
    "    return Hk\n"
   ]
  },
  {
   "cell_type": "code",
   "execution_count": 45,
   "metadata": {},
   "outputs": [
    {
     "name": "stdout",
     "output_type": "stream",
     "text": [
      "[-0.20417256 -0.20417256 -0.19523157 -0.20417256 -0.20417256]\n"
     ]
    }
   ],
   "source": [
    "'''TEST CODE'''\n",
    "J = -np.ones(3)\n",
    "N1 = 2\n",
    "N2 = 3\n",
    "SiteNum = N1 * N2 * 2\n",
    "Hk = KitaevRhom_sparse(J, N1, N2)\n",
    "from scipy.sparse.linalg import eigsh\n",
    "e,v = eigsh(Hk, k = 5,which = 'SA')\n",
    "print(e/SiteNum)"
   ]
  },
  {
   "cell_type": "code",
   "execution_count": 8,
   "metadata": {},
   "outputs": [
    {
     "data": {
      "text/plain": [
       "(array([0]),)"
      ]
     },
     "execution_count": 8,
     "metadata": {},
     "output_type": "execute_result"
    }
   ],
   "source": [
    "np.where(np.min(e))"
   ]
  },
  {
   "cell_type": "markdown",
   "metadata": {},
   "source": [
    "\\section{The magnetic field Hamiltonian}\n",
    "\n",
    "\\quad The magnetic field Hamiltonian is:\n",
    "\n",
    "\\begin{equation}\n",
    "    H_h = - \\sum_j \\vec{h} \\cdot \\vec{S_j} = - \\sum_{j,\\alpha} h_\\alpha S_j^\\alpha, \\ \\ \\alpha= x, y, z\n",
    "\\end{equation}"
   ]
  },
  {
   "cell_type": "code",
   "execution_count": 9,
   "metadata": {
    "code_folding": []
   },
   "outputs": [],
   "source": [
    "def MagHam_sparse(field, N1, N2):\n",
    "    SiteNum = N1 * N2 * 2\n",
    "    dim = pow(2,SiteNum)\n",
    "    Hm = sps.csc_matrix((dim,dim))\n",
    "    \n",
    "    # define Pauli matrices\n",
    "    sx = sps.csc_matrix(0.5 * np.array([[0,1],[1,0]]))\n",
    "    sy = sps.csc_matrix(0.5 * np.array([[0,-1j],[1j,0]]))\n",
    "    sz = sps.csc_matrix(0.5 * np.array([[1,0],[0,-1]]))\n",
    "    \n",
    "    # define spin operators\n",
    "    sj = -field[0]*sx - field[1]*sy - field[2]*sz\n",
    "    \n",
    "    for n in range(SiteNum):\n",
    "        Hm += sps.kron(unit(n), sps.kron(sj, unit(SiteNum - n - 1)))   \n",
    "    return Hm\n",
    "\n",
    "def magnetization(state, N1, N2):\n",
    "    s = np.zeros(4,dtype = complex)\n",
    "    \n",
    "    SiteNum = N1 * N2 * 2\n",
    "    dim = pow(2,SiteNum)\n",
    "    Sx = sps.csc_matrix((dim,dim))\n",
    "    Sy = sps.csc_matrix((dim,dim))\n",
    "    Sz = sps.csc_matrix((dim,dim))\n",
    "    \n",
    "    # define Pauli matrices\n",
    "    sx = sps.csc_matrix(0.5 * np.array([[0,1],[1,0]]))\n",
    "    sy = sps.csc_matrix(0.5 * np.array([[0,-1j],[1j,0]]))\n",
    "    sz = sps.csc_matrix(0.5 * np.array([[1,0],[0,-1]]))\n",
    "    \n",
    "    for n in range(SiteNum):\n",
    "        Sx += sps.kron(unit(n), sps.kron(sx, unit(SiteNum - n - 1)))\n",
    "        Sy += sps.kron(unit(n), sps.kron(sy, unit(SiteNum - n - 1)))\n",
    "        Sz += sps.kron(unit(n), sps.kron(sz, unit(SiteNum - n - 1)))\n",
    "       \n",
    "    s[0] = np.conj(state).T @ Sx @ state\n",
    "    s[1] = np.conj(state).T @ Sy @ state\n",
    "    s[2] = np.conj(state).T @ Sz @ state\n",
    "    \n",
    "    for i in range(3):\n",
    "        s[3] += np.conj(s[i]) * s[i]\n",
    "    s[3] = np.sqrt(s[3])\n",
    "    \n",
    "    return s/SiteNum"
   ]
  },
  {
   "cell_type": "markdown",
   "metadata": {},
   "source": [
    "\\subsection{KSL under a uniform magnetic field}"
   ]
  },
  {
   "cell_type": "code",
   "execution_count": 10,
   "metadata": {},
   "outputs": [
    {
     "name": "stdout",
     "output_type": "stream",
     "text": [
      "[0. 0. 0.]\n",
      "[0.1 0.1 0.1]\n",
      "[0.2 0.2 0.2]\n",
      "[0.3 0.3 0.3]\n",
      "[0.4 0.4 0.4]\n",
      "[0.5 0.5 0.5]\n",
      "finish\n"
     ]
    }
   ],
   "source": [
    "'''TEST CODE'''\n",
    "from scipy.sparse.linalg import eigsh\n",
    "\n",
    "J = -np.ones(3)\n",
    "N1 = 2\n",
    "N2 = 3\n",
    "SiteNum = N1 * N2 * 2\n",
    "dim = pow(2, SiteNum)\n",
    "Hk = KitaevRhom_sparse(J, N1, N2)\n",
    "\n",
    "hmin = 0\n",
    "hmax = 0.5\n",
    "step = 101\n",
    "\n",
    "a = np.linspace(hmin, hmax, step)\n",
    "e = np.zeros([step, 6]) \n",
    "v = {} # eigen vectors\n",
    "\n",
    "for i in range(step):\n",
    "    field = np.array([1,1,1]) * a[i]\n",
    "    if i%(step//5) == 0:\n",
    "        print(field)\n",
    "        \n",
    "    Hm = MagHam_sparse(field, N1, N2)\n",
    "    H = Hk + Hm\n",
    "    \n",
    "    vec = np.zeros([dim,6])\n",
    "    e[i,:], vec = eigsh (H, k=6, which ='SA')\n",
    "    e[i,:].sort()\n",
    "    \n",
    "    if i==step-1:\n",
    "        print('finish')"
   ]
  },
  {
   "cell_type": "code",
   "execution_count": 12,
   "metadata": {},
   "outputs": [
    {
     "data": {
      "text/plain": [
       "Text(0, 0.5, 'GS energy')"
      ]
     },
     "execution_count": 12,
     "metadata": {},
     "output_type": "execute_result"
    },
    {
     "data": {
      "image/png": "[encoded data removed]",
      "text/plain": [
       "<Figure size 432x288 with 1 Axes>"
      ]
     },
     "metadata": {
      "needs_background": "light"
     },
     "output_type": "display_data"
    }
   ],
   "source": [
    "import matplotlib.pyplot as plt\n",
    "  \n",
    "plt.plot(a,e[:,0]/ SiteNum, linewidth = 2)\n",
    "plt.xlim(0,0.5)\n",
    "plt.xlabel('h')\n",
    "plt.ylabel('GS energy')"
   ]
  },
  {
   "cell_type": "code",
   "execution_count": 13,
   "metadata": {},
   "outputs": [
    {
     "data": {
      "text/plain": [
       "<matplotlib.legend.Legend at 0xa2184db00>"
      ]
     },
     "execution_count": 13,
     "metadata": {},
     "output_type": "execute_result"
    },
    {
     "data": {
      "image/png": "[encoded data removed]",
      "text/plain": [
       "<Figure size 432x288 with 1 Axes>"
      ]
     },
     "metadata": {
      "needs_background": "light"
     },
     "output_type": "display_data"
    }
   ],
   "source": [
    "import matplotlib.pyplot as plt\n",
    "\n",
    "plt.plot(a,(e[:,1] - e[:,0])/ SiteNum, linewidth = 2, label = 'E1 - E0')\n",
    "plt.plot(a,(e[:,2] - e[:,0])/ SiteNum, linewidth = 2, label = 'E2 - E0')\n",
    "plt.plot(a,(e[:,3] - e[:,0])/ SiteNum, linewidth = 2, label = 'E3 - E0')\n",
    "plt.plot(a,(e[:,4] - e[:,0])/ SiteNum, linewidth = 2, label = 'E4 - E0')\n",
    "plt.plot(a,(e[:,5] - e[:,0])/ SiteNum, linewidth = 2, label = 'E5 - E0')\n",
    "\n",
    "plt.xlim(0,0.5)\n",
    "plt.xlabel('h')\n",
    "\n",
    "plt.ylim(0,)\n",
    "plt.ylabel('Ei - E0')\n",
    "\n",
    "plt.legend()"
   ]
  },
  {
   "cell_type": "markdown",
   "metadata": {},
   "source": [
    "\\section{Wilson loop operators}\n",
    "\n",
    "\\subsection{Flux on hexagons}\n",
    "\n",
    "\\quad In Kitaev model, the Wilson loop operator of a hexagon is conserved.\n",
    "\\begin{equation}\n",
    "    \\hat{W}_P = \\sigma_0^z \\sigma_1^y \\sigma_2^x \\sigma_3^z \\sigma_4^y \\sigma_5^x\n",
    "\\end{equation}\n",
    "\n",
    "\\quad We label the hexagon by the position of site-$0$. If the position of site-$0$ is $(r,c)$, then:\n",
    "\n",
    "| 0       | 1       | 2         | 3           | 4           | 5         |\n",
    "|---      |---      |---        |---          |---          |---        |\n",
    "| (r,c)-A | (r,c)-B | (r+1,c)-A | (r+1,c-1)-B | (r+1,c-1)-A | (r,c-1)-B |\n",
    "\n",
    "<img src = hexagon.png width = \"200\">\n"
   ]
  },
  {
   "cell_type": "code",
   "execution_count": null,
   "metadata": {},
   "outputs": [],
   "source": [
    "def unit(N):\n",
    "    p = identity(pow(2,N))\n",
    "    return p\n",
    "\n",
    "def HexFlux(N1, N2, r, c): # can not cross boundary\n",
    "    SiteNum = N1 * N2 * 2\n",
    "    dim = pow(2,SiteNum)\n",
    "    \n",
    "    # define Pauli matrices\n",
    "    px = sps.csc_matrix(np.array([[0,1],[1,0]]))\n",
    "    py = sps.csc_matrix(np.array([[0,-1j],[1j,0]]))\n",
    "    pz = sps.csc_matrix(np.array([[1,0],[0,-1]]))\n",
    "    \n",
    "    # calculate site index\n",
    "    sites = np.zeros(6, dtype = int)\n",
    "    sites[0] = index(N1, N2, c, r, atom = 'A')\n",
    "    sites[1] = index(N1, N2, c, r, atom = 'B')\n",
    "    sites[2] = index(N1, N2, c, r+1, atom = 'A')\n",
    "    sites[3] = index(N1, N2, c-1, r+1, atom = 'B')\n",
    "    sites[4] = index(N1, N2, c-1, r+1, atom = 'A')\n",
    "    sites[5] = index(N1, N2, c-1, r, atom = 'B')\n",
    "    \n",
    "    sites.sort()\n",
    "    print(sites)\n",
    "    \n",
    "    # define Wilson loop operators:5->0->1->4->3->2\n",
    "    W1 = sps.kron(px, sps.kron(pz,py))  #5->0->1\n",
    "    W2 = sps.kron(py, sps.kron(pz,px))  #4->3->2\n",
    "    \n",
    "    mid = sites[4] - sites[1] - 1\n",
    "    Wp = sps.kron(unit(sites[5]), W1)\n",
    "    Wp = sps.kron(Wp, unit(mid))\n",
    "    Wp = sps.kron(Wp,W2)\n",
    "    Wp = sps.kron(Wp, unit(SiteNum - sites[5]- mid - 6))\n",
    "    \n",
    "    return Wp"
   ]
  },
  {
   "cell_type": "code",
   "execution_count": 140,
   "metadata": {
    "scrolled": true
   },
   "outputs": [
    {
     "name": "stdout",
     "output_type": "stream",
     "text": [
      "[-0.19849309 -0.19849309 -0.19548109 -0.19849309 -0.19548109]\n"
     ]
    }
   ],
   "source": [
    "J = np.ones(3)\n",
    "N1 = 3\n",
    "N2 = 3\n",
    "SiteNum = N1 * N2 * 2\n",
    "dim = pow(2, SiteNum)\n",
    "Hk = KitaevRhom_sparse(J, N1, N2)\n",
    "from scipy.sparse.linalg import eigsh\n",
    "e = np.zeros(5)\n",
    "v = np.zeros([dim,5])\n",
    "e,v = eigsh(Hk, k = 5,which = 'SA')\n",
    "print(e/SiteNum)"
   ]
  },
  {
   "cell_type": "code",
   "execution_count": null,
   "metadata": {},
   "outputs": [],
   "source": [
    "Wp = HexFlux(N1, N2, 2, 1)\n",
    "w = 0\n",
    "w = np.conj(v[:,0]).T @ Wp @  v[:,0]\n",
    "print(w.real)"
   ]
  },
  {
   "cell_type": "code",
   "execution_count": null,
   "metadata": {},
   "outputs": [],
   "source": []
  },
  {
   "cell_type": "code",
   "execution_count": null,
   "metadata": {},
   "outputs": [],
   "source": []
  }
 ],
 "metadata": {
  "kernelspec": {
   "display_name": "Python 3",
   "language": "python",
   "name": "python3"
  },
  "language_info": {
   "codemirror_mode": {
    "name": "ipython",
    "version": 3
   },
   "file_extension": ".py",
   "mimetype": "text/x-python",
   "name": "python",
   "nbconvert_exporter": "python",
   "pygments_lexer": "ipython3",
   "version": "3.7.3"
  },
  "latex_envs": {
   "LaTeX_envs_menu_present": true,
   "autoclose": false,
   "autocomplete": false,
   "bibliofile": "biblio.bib",
   "cite_by": "apalike",
   "current_citInitial": 1,
   "eqLabelWithNumbers": true,
   "eqNumInitial": 1,
   "hotkeys": {
    "equation": "Ctrl-E",
    "itemize": "Ctrl-I"
   },
   "labels_anchors": false,
   "latex_user_defs": false,
   "report_style_numbering": true,
   "user_envs_cfg": false
  },
  "toc": {
   "base_numbering": 1,
   "nav_menu": {},
   "number_sections": true,
   "sideBar": true,
   "skip_h1_title": false,
   "title_cell": "Table of Contents",
   "title_sidebar": "Contents",
   "toc_cell": false,
   "toc_position": {},
   "toc_section_display": true,
   "toc_window_display": true
  }
 },
 "nbformat": 4,
 "nbformat_minor": 2
}
