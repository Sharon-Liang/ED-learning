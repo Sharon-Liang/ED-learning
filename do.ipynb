{
 "cells": [
  {
   "cell_type": "code",
   "execution_count": null,
   "metadata": {},
   "outputs": [],
   "source": [
    "include(\"Hamiltonian.jl\")\n",
    "include(\"mb.jl\")\n",
    "\n",
    "f = open(\"18SiteKH.txt\",\"a\")\n",
    "writedlm(f, [\"phi\" \"Eg\"])\n",
    "close(f)\n",
    "\n",
    "la = Lattice(3,3); num = sitenum(la)\n",
    "\n",
    "N = 100\n",
    "\n",
    "eg = zeros(N+1); phi = zeros(N+1);\n",
    "for i = 1: (N+1)\n",
    "    phi[i] = 2*pi/N * (i-1)\n",
    "    K = 2*sin(phi[i])*ones(3); J = cos(phi[i])*ones(3);\n",
    "    ek = zeros(num*2)\n",
    "    \n",
    "    countk = 0\n",
    "    for k1 = 0: (la.N1-1), k2 = 0: (la.N2-1)\n",
    "        mb = MomBasis(k1, k2, la)\n",
    "        Hk = Kitaev_T(K, k1, k2, mb, la)\n",
    "        Hj = HeisenbergJ_T(J, k1, k2, mb, la)\n",
    "        H = Hk + Hj\n",
    "        \n",
    "        #=\n",
    "        println(\"Check zero columns\")\n",
    "        len = length(H.colptr)-1\n",
    "        for j = 1:len\n",
    "            if H.colptr[j+1]-1 < H.colptr[j]\n",
    "                println(\"zero column: \", j)\n",
    "            end\n",
    "        end\n",
    "        println(\"No zero columns\")\n",
    "        =#\n",
    "        \n",
    "        e, x = eigs(H, nev = 4, which = :SR, maxiter=10000)\n",
    "        for k = 1:4\n",
    "            ek[countk + k] = real(e[k])/num\n",
    "        end\n",
    "        countk += 4\n",
    "    end\n",
    "    ek = sort(ek)\n",
    "    println(ek[1:4])\n",
    "    eg[i] = ek[1]\n",
    "    f = open(\"18SiteKH.txt\",\"a\")\n",
    "    writedlm(f, [phi[i] eg[i]])\n",
    "    close(f)\n",
    "    println(\"Finish phi = \",i, \"*2pi/N\")\n",
    "end\n",
    "println(\"Finish All\")"
   ]
  }
 ],
 "metadata": {
  "kernelspec": {
   "display_name": "Julia 1.1.0",
   "language": "julia",
   "name": "julia-1.1"
  },
  "language_info": {
   "file_extension": ".jl",
   "mimetype": "application/julia",
   "name": "julia",
   "version": "1.1.0"
  },
  "latex_envs": {
   "LaTeX_envs_menu_present": true,
   "autoclose": false,
   "autocomplete": false,
   "bibliofile": "biblio.bib",
   "cite_by": "apalike",
   "current_citInitial": 1,
   "eqLabelWithNumbers": true,
   "eqNumInitial": 1,
   "hotkeys": {
    "equation": "Ctrl-E",
    "itemize": "Ctrl-I"
   },
   "labels_anchors": false,
   "latex_user_defs": false,
   "report_style_numbering": true,
   "user_envs_cfg": false
  },
  "toc": {
   "base_numbering": 1,
   "nav_menu": {},
   "number_sections": true,
   "sideBar": true,
   "skip_h1_title": false,
   "title_cell": "Table of Contents",
   "title_sidebar": "Contents",
   "toc_cell": false,
   "toc_position": {},
   "toc_section_display": true,
   "toc_window_display": false
  }
 },
 "nbformat": 4,
 "nbformat_minor": 2
}
