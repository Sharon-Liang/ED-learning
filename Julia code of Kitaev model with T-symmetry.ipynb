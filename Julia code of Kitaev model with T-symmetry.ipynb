{
 "cells": [
  {
   "cell_type": "markdown",
   "metadata": {},
   "source": [
    "This is the Julia 1.1.0 ED code of Kitaev model on a honeycomb lattice with rhomboid geometry. \n",
    "\n",
    "There are several aspects we should notice when writing Julia codes:\n",
    "\n",
    "1. All indices start from $1$, a slice $i:j$ includes both $i$ and $j$.\n",
    "\n",
    "2. Note that if $m < 0$, div$(m,n)$ gives the smallest integer that $>= m/n$, while in python, $m//n$ gives the largest integer that $<= m/n$.\n",
    "\n",
    "3. We should set maxiter$=10000$ when using eigs( ), otherwise it will have this error: julia arpack ARPACKException: unspecified ARPACK error: 1.\n",
    "\n",
    "4. The row indices should be in order (small to large) in SparseMatrixCSC, otherwise the adding of two CSC matrices would be wrong.\n"
   ]
  },
  {
   "cell_type": "code",
   "execution_count": 17,
   "metadata": {},
   "outputs": [],
   "source": [
    "using SparseArrays\n",
    "using Arpack\n",
    "using BenchmarkTools\n",
    "using DelimitedFiles\n",
    "using PyPlot"
   ]
  },
  {
   "cell_type": "markdown",
   "metadata": {},
   "source": [
    "\\section{Representation of spin-1/2 basis}\n",
    "\n",
    "We use the eigen-states of $S^z$ as basis states and use $|0 \\rangle$ to represent $|\\downarrow \\rangle$ and $|1 \\rangle$ to represent $|\\uparrow \\rangle$. The states can thus be represented by a set of binary numbers. Moreover, we can use the corresponding dicimal number of each state as its tag.\n",
    "\n",
    "For a system with N sites, the dimension of Hilbert space is $2^N$. The Hilbert space dimension can be furtuer reduced by applying symmetries and conservation laws.\n",
    "\n",
    "The following code shows how to read the spin configuration of a dicimal tag. Note that we should use bits operation to reach maximun speed."
   ]
  },
  {
   "cell_type": "code",
   "execution_count": 18,
   "metadata": {},
   "outputs": [
    {
     "data": {
      "text/plain": [
       "bits (generic function with 1 method)"
      ]
     },
     "execution_count": 18,
     "metadata": {},
     "output_type": "execute_result"
    }
   ],
   "source": [
    "function bits(i::Integer, num::Integer)\n",
    "    # Chenck the i-th element of the binary representation of a dicimal number\n",
    "    # the bits count from right to left\n",
    "    mask = 2^(i - 1)\n",
    "    if num & mask == mask\n",
    "        return 1\n",
    "    else\n",
    "        return 0\n",
    "    end\n",
    "end"
   ]
  },
  {
   "cell_type": "markdown",
   "metadata": {},
   "source": [
    "\\section{Lattice setup}\n",
    "\\subsection{Rhomboid $ N_1 \\times N_2 \\times 2$ lattice}\n",
    "\n",
    "The lattice vectors are $\\vec{n}_1 = (0,1), \\vec{n}_2 = (\\frac{1}{2},\\frac{\\sqrt{3}}{2})$. The number of unit cells along these two directions are $N_1$ and $N_2$ respectively. We label each unit cell by its row and colume numbers $(r, c)$(start from $0$), the label of this unit cell given by $ n = r \\times N_1 + c$. We can label A atom in the $n$-th unit cell as $2(n+1) - 1$ and B atom as $2(n+1)$."
   ]
  },
  {
   "cell_type": "code",
   "execution_count": 19,
   "metadata": {
    "code_folding": []
   },
   "outputs": [
    {
     "data": {
      "text/plain": [
       "findposition (generic function with 1 method)"
      ]
     },
     "execution_count": 19,
     "metadata": {},
     "output_type": "execute_result"
    }
   ],
   "source": [
    "struct Lattice{T <: Integer}\n",
    "    # Lattice size set up\n",
    "    N1::T\n",
    "    N2::T\n",
    "end\n",
    "\n",
    "struct Position{T <: Integer}\n",
    "    # position of an atom in the lattice\n",
    "    col::T\n",
    "    row::T\n",
    "    atom::T\n",
    "end\n",
    "\n",
    "dimension(la::Lattice) = 2^(la.N1 * la.N2 * 2)\n",
    "sitenum(la::Lattice) = la.N1 * la.N2 * 2\n",
    "\n",
    "function index(pos::Position, which::Int, la::Lattice)\n",
    "    #= Calculate the index of the atoms in the (r,c) unit cell.\n",
    "       c, r start from 0.\n",
    "       A-sublattice atom = 0; B-subkattice: atom = 1. \n",
    "       which = 0, 1, 2, 3 corresponds to the original atom and \n",
    "        the one linked to it via x,y,z bonds =#\n",
    "    \n",
    "    which == 2 ? c = (pos.col -1)% la.N1 : c = pos.col% la.N1\n",
    "    which == 3 ? r = (pos.row -1)% la.N2 : r = pos.row% la.N2\n",
    "    which != 0 ? a = (pos.atom + 1)%2 : a = pos.atom\n",
    "    \n",
    "    c < 0 ? c += la.N1 : c += 0\n",
    "    r < 0 ? r += la.N2 : r += 0\n",
    "    n = r * la.N1 + c\n",
    "    return 2*n +1 + a\n",
    "end\n",
    "\n",
    "function findposition(ind::Int, la::Lattice)\n",
    "    #= find the position of ind in the lattice\n",
    "       ind starts from 1 =#\n",
    "    atom = (ind +1)%2 \n",
    "    n = div((ind -1 -atom),2)\n",
    "    r, c = divrem(n, la.N1)\n",
    "    return Position(c, r, atom)\n",
    "end"
   ]
  },
  {
   "cell_type": "markdown",
   "metadata": {},
   "source": [
    "\\subsection{24-site 6-fold rotational symmetric lattice}\n",
    "\n",
    "<img src = \"6-fold-lattice.png\" width = 400>"
   ]
  },
  {
   "cell_type": "code",
   "execution_count": 67,
   "metadata": {
    "code_folding": [
     0,
     30
    ]
   },
   "outputs": [
    {
     "data": {
      "text/plain": [
       "hex_findposition (generic function with 1 method)"
      ]
     },
     "execution_count": 67,
     "metadata": {},
     "output_type": "execute_result"
    }
   ],
   "source": [
    "function hex_index(pos::Position, which::Int)\n",
    "    #= Calculate the index of the atoms in the (r,c) unit cell.\n",
    "       c, r start from 0.\n",
    "       A-sublattice atom = 0; B-subkattice: atom = 1. \n",
    "       which = 0, 1, 2, 3 corresponds to the original atom and \n",
    "        the one linked to it via x,y,z bonds =#\n",
    "    A = [ 4  5 10 11 12;\n",
    "          2  6  7  8  9;\n",
    "         12  3  4  5 10;\n",
    "          9  1  2  6  7;\n",
    "         10 11 12  3  4;] # lattice setup\n",
    "    \n",
    "    if which == 2\n",
    "        c = pos.col -1\n",
    "        r = pos.row\n",
    "    elseif which == 3\n",
    "        r = pos.row -1\n",
    "        c = pos.col -1\n",
    "    else\n",
    "        r = pos.row\n",
    "        c = pos.col\n",
    "    end\n",
    "\n",
    "    which != 0 ? a = (pos.atom + 1)%2 : a = pos.atom\n",
    "    \n",
    "    c = c + 2\n",
    "    r = r + 2\n",
    "    return 2* A[6-r,c] - 1 + a\n",
    "end\n",
    "\n",
    "function hex_findposition(ind::Int)\n",
    "    #= find the position of ind in the lattice\n",
    "       ind starts from 1 =#\n",
    "    atom = (ind +1)%2 \n",
    "    n = div((ind +1 -atom),2)\n",
    "    r0 = 0\n",
    "    r = 0; c = 0;\n",
    "    for i = 1:5\n",
    "        r0 += i\n",
    "        if n < r0\n",
    "            r = i - 1\n",
    "            c = n - (r0 - i)\n",
    "            break\n",
    "        else\n",
    "            r = -1\n",
    "        end\n",
    "    end\n",
    "    \n",
    "    if r == 4\n",
    "        c += 1\n",
    "    end\n",
    "    if r > 0\n",
    "        return Position(c, r-1, atom)\n",
    "    else\n",
    "        return(\"ERROR: Can't find position\")\n",
    "    end\n",
    "end"
   ]
  },
  {
   "cell_type": "markdown",
   "metadata": {},
   "source": [
    "\\section{Translational symmetry and Momentum basis}\n",
    "\n",
    "\\subsection{Translation operators}\n",
    "\\begin{align}\n",
    "T_1^{N_1} = 1  &\\Rightarrow k_1 = m_1 \\frac{2 \\pi}{N_1},\\ m_1 = -N_1 //2 + 1 ,\\dots, N_1//2 \\\\\n",
    "T_2^{N_2} = 1  &\\Rightarrow k_2 = m_2 \\frac{2 \\pi}{N_1},\\ m_2 = -N_2 //2 + 1 ,\\dots, N_2//2\n",
    "\\end{align}\n",
    "\n",
    "\\subsection{Monentum basis}\n",
    "\n",
    "A momentum state can be constructed using a reference state $|a \\rangle$ (a single state in z-component basis) and all its translations:\n",
    "\\begin{equation}\n",
    "|a_{k_1,k_2} \\rangle = \\frac{1}{\\sqrt{N_a}} \n",
    "                        \\sum_{r_1 = 0}^{N_1-1} \\sum_{r_2 = 0}^{N_2-1}\n",
    "                          e^{-ik_1 r_1 - ik_2 r_2} T_1^{r_1} T_2^{r_2} |a \\rangle\n",
    "\\end{equation}\n",
    "\n",
    "We can easily prove that:\n",
    "\\begin{equation}\n",
    "T_j |a_{k_1,k_2} \\rangle = e^{-ik_j} |a_{k_1,k_2} \\rangle, \\ j = 1,2\n",
    "\\end{equation}\n",
    "\n",
    "To construct a complete set of normalizable orthogonal state for a given $\\vec{k} = (k_1, k_2)$, the corresponding representatives must obey:\n",
    "\n",
    "\\begin{equation}\n",
    "T^{\\vec{r}}|a \\rangle = T_1^{r_1} T_2^{r_2} |a \\rangle \\neq |b \\rangle, \n",
    "\\quad r_{1,2} = 0,\\dots,N_{1,2}-1 \n",
    "\\end{equation}\n",
    "\n",
    "We can use only one of the states that related by translation operations as the reference state, normally we choose the one with the smallest index.\n",
    "\n",
    "That is to find the generating set $S$ of the translation group $G$ of the lattice and its factor group $G/S$. Here is how.\n",
    "\n",
    "Suppose we have a staring state $si$, then we apply the translation operators one by one to it. Everytime we find a new state, the operation belongs to $S$, and everytime it comes back to the initial state $si$, the operation belongs to $G/S$. Then the momentum state can be written as:\n",
    "\n",
    "\\begin{equation}\n",
    "|a_{k_1,k_2} \\rangle = \\frac{1}{\\sqrt{N_a}} \n",
    "                        \\sum_{T^{\\vec{r}} \\in S}\n",
    "                          e^{-i \\vec{k} \\cdot \\vec{r} } T^{\\vec{r}} |a \\rangle\n",
    "\\end{equation}\n",
    "\n",
    "where:\n",
    "\\begin{equation}\n",
    "\\frac{1}{\\sqrt{N_a}} = \\frac{n_a}{\\sqrt{N}} \\sum_{T^{\\vec{r}'} \\in G/S} T^{\\vec{r}'}\n",
    "\\end{equation}\n",
    "\n",
    "where $N = N_1 \\times N_2$ and $n_a$ is the total number of elements in $S$.\n",
    "\n",
    "The dimension of the Hilbert space is approximately reduced by $N$ times, $D \\approx 2^{2N} /N$."
   ]
  },
  {
   "cell_type": "code",
   "execution_count": 5,
   "metadata": {
    "code_folding": [
     8,
     26
    ]
   },
   "outputs": [
    {
     "data": {
      "text/plain": [
       "MomBasis (generic function with 1 method)"
      ]
     },
     "execution_count": 5,
     "metadata": {},
     "output_type": "execute_result"
    }
   ],
   "source": [
    "struct SymmetricBasis{T1 <: Integer, T2 <: AbstractFloat}\n",
    "    bs::Array{T1,1} # basis state\n",
    "    rs::Array{T1,1} # reference state\n",
    "    na::Array{T2,1} # renormalization factor\n",
    "    θre::Array{T2,1} # real part of the phase \n",
    "    θim::Array{T2,1} # imaginary part of the phase\n",
    "end\n",
    "\n",
    "function cyclebits(n1::Int, n2::Int, tag::Int, la::Lattice)\n",
    "    #=Performs a cyclic permutations of n1 steps to the right and n2 steps upward.\n",
    "       Inputs: tag: tag of the reference state\n",
    "               n1: cycle times of n1-direction, columns,if n1=0, no cycle in columns\n",
    "               n2: cycle times of n2-direction, rows,if n2=0, no cycle in rows\n",
    "               N1: number of columns\n",
    "               N2: number of rows\n",
    "       Outputs: ntag: the tag of the outcoming state=#\n",
    "    num = sitenum(la)\n",
    "    ntag = 0\n",
    "    for r = 0: la.N2-1, c = 0: la.N1 -1, atom = 0: 1\n",
    "        ind = index(Position(c,r,atom), 0, la)\n",
    "        nind = index(Position(c+n1,r+n2,atom), 0, la) # n1: ->right, n2 -> up\n",
    "        ntag += 2^(nind - 1) * bits(ind, tag)\n",
    "    end\n",
    "    return ntag\n",
    "end\n",
    "\n",
    "function MomBasis(k1::Int, k2::Int, la::Lattice)\n",
    "    #Momentum basis list of a given k1, k2\n",
    "    dim = dimension(la)\n",
    "    bs = [x for x = 1: dim] # momentum basis\n",
    "    rs, na = zeros(Int, dim), -ones(dim)\n",
    "    θre, θim = zeros(Float64, dim), zeros(Float64, dim)\n",
    "    \n",
    "    error = 1.e-8\n",
    "    \n",
    "    k1, k2 = 2* pi/la.N1 * k1, 2* pi/la.N2 * k2\n",
    "    \n",
    "    for tag = 0: (dim - 1)\n",
    "        count = 0 # count number of non-equicalent translation operations\n",
    "        fac = 0.0im # accumulate renormalization factor\n",
    "        if na[tag + 1] < 0\n",
    "            for n1 = 0: la.N1-1, n2 = 0: la.N2-1\n",
    "                ntag = cyclebits(n1, n2, tag, la)\n",
    "                rs[ntag + 1] = tag\n",
    "                # note the first translation operation that obtains this state\n",
    "                if na[ntag + 1] < 0\n",
    "                    θre[ntag + 1] = cos(n1* k1 + n2* k2)\n",
    "                    θim[ntag + 1] = sin(n1* k1 + n2* k2)\n",
    "                end\n",
    "                \n",
    "                if ntag > tag\n",
    "                    na[ntag + 1] = 0\n",
    "                elseif ntag == tag\n",
    "                    fac += exp(-1im*k1*n1 - 1im*k2*n2)\n",
    "                    count += 1\n",
    "                    na[ntag + 1] = 1\n",
    "                end\n",
    "            end\n",
    "            \n",
    "            if abs(fac) < error\n",
    "                fac = 0\n",
    "            end\n",
    "            na[tag + 1] *= abs(fac)* sqrt(la.N1 * la.N2 /count)\n",
    "        end\n",
    "    end\n",
    "    \n",
    "    for i = 1: dim\n",
    "        bs[i] = bs[i] * sign(na[i])\n",
    "    end \n",
    "    \n",
    "    na = filter!(x->x != 0, na)\n",
    "    bs = filter!(x->x != 0, bs)\n",
    "    bs = replace!(x -> x-1, bs)\n",
    "    return SymmetricBasis(bs, rs, na, θre, θim)                     \n",
    "end"
   ]
  },
  {
   "cell_type": "markdown",
   "metadata": {},
   "source": [
    "\\subsection{Hamiltonian matrix elements}\n",
    "\n",
    "If we have a hamiltonian:\n",
    "\n",
    "\\begin{equation}\n",
    "H = \\sum_j h_j\n",
    "\\end{equation}\n",
    "\n",
    "and apply the $j$-th term to a momentum state $|a(\\vec{k}) \\rangle$:\n",
    "\n",
    "\\begin{align}\n",
    "\\begin{split}\n",
    "h_j |a(\\vec{k}) \\rangle &= h_j \\frac{1}{\\sqrt{N_a}} \\sum_{T^\\vec{r} \\in S}\n",
    "                          e^{-i \\vec{k} \\cdot \\vec{r} } T^\\vec{r} |a \\rangle \\\\\n",
    "                        &= \\frac{1}{\\sqrt{N_a}} \\sum_{T^\\vec{r} \\in S}\n",
    "                          e^{-i \\vec{k} \\cdot \\vec{r} } T^\\vec{r} h_j |a \\rangle \\\\\n",
    "                        &= \\frac{h_j(a)}{\\sqrt{N_a}} \\sum_{T^\\vec{r} \\in S}\n",
    "                          e^{-i \\vec{k} \\cdot \\vec{r} } T^\\vec{r} |b' \\rangle \\\\\n",
    "\\end{split}\n",
    "\\end{align}\n",
    "\n",
    "where $|b' \\rangle$ is the new state obtained after applying $h_j$, note that the prime means that $|b' \\rangle$ may not be a reference state in our momentum basis. Suppose $|b' \\rangle$ relates with its reference state $|b \\rangle$ via:\n",
    "\n",
    "\\begin{equation}\n",
    "T^\\vec{l} |b' \\rangle = |b \\rangle\n",
    "\\end{equation}\n",
    "\n",
    "Then we have:\n",
    "\\begin{align}\n",
    "\\begin{split}\n",
    "h_j |a(\\vec{k}) \\rangle &= \\frac{h_j(a)}{\\sqrt{N_a}} \\sum_{T^\\vec{r} \\in S}\n",
    "                          e^{-i \\vec{k} \\cdot \\vec{r} } T^\\vec{r} |b' \\rangle \\\\\n",
    "                 &= \\frac{h_j(a)}{\\sqrt{N_a}} \\sum_{T^\\vec{r} \\in S}\n",
    "                    e^{-i \\vec{k} \\cdot \\vec{r} } T^\\vec{r} T^{-\\vec{l}}|b \\rangle \\\\          &= \\frac{h_j(a)}{\\sqrt{N_a}} e^{-i\\vec{k} \\cdot \\vec{l}} \\sum_{T^\\vec{r} \\in S}\n",
    "            e^{-i \\vec{k} \\cdot (\\vec{r} - \\vec{l})} T^{\\vec{r} -\\vec{l}}|b \\rangle \\\\\n",
    "     &= \\frac{h_j(a)}{\\sqrt{N_a}} e^{-i\\vec{k} \\cdot \\vec{l}} \\sum_{T^{\\vec{r}'} \\in S}\n",
    "            e^{-i \\vec{k} \\cdot \\vec{r}'} T^{\\vec{r}'}|b \\rangle \\\\\n",
    "     &= h_j(a) \\sqrt{\\frac{N_b}{N_a}} e^{-i\\vec{k} \\cdot \\vec{l}} |b(\\vec{k}) \\rangle \\\\\n",
    "\\end{split}\n",
    "\\end{align}\n",
    "\n",
    "Therefore, the matrix element\n",
    "\n",
    "\\begin{equation}\n",
    "\\langle b(\\vec{k})| h_j |a(\\vec{k}) \\rangle\n",
    "     = h_j(a) \\sqrt{\\frac{N_b}{N_a}} e^{-i\\vec{k} \\cdot \\vec{l}}\n",
    "\\end{equation}"
   ]
  },
  {
   "cell_type": "markdown",
   "metadata": {},
   "source": [
    "\\section{Model Hamiltonian}\n",
    "\\subsection{Kitaev Hamiltonian}\n",
    "\n",
    "\\begin{equation}\n",
    "    H_K =  \\sum_{<j,k>_\\alpha} K_\\alpha S_j^\\alpha S_k^\\alpha\n",
    "\\end{equation}\n",
    "where $\\alpha = x, y, z$.\n",
    "\n",
    "\n",
    "The Hamiltonian can be rewriten to $H_K = H_x + H_y +H_z$, where $H_z$ is the diagonal term and $H_x, H_y$ are off-diagonal terms:\n",
    "\n",
    "\\begin{align}\n",
    "      H_x &= \\sum_{<i,j>_x} K_x S_i^x S_j^x = \\sum_{<i,j>_x} \\frac{K_x}{4} ( S_i^+ S_j^- + S_i^- S_j^+ + S_i^+ S_j^+            + S_i^- S_j^-)\\\\\n",
    "      H_y &= \\sum_{<i,j>_y} K_y S_i^y S_j^y = \\sum_{<i,j>_y} \\frac{K_y}{4} ( S_i^+ S_j^- + S_i^- S_j^+ - S_i^+ S_j^+            - S_i^- S_j^-)\\\\\n",
    "      H_z &= \\sum_{<i,j>_z} K_z S_i^z S_j^z\n",
    "\\end{align}\n",
    "where $S_i^\\pm = S_i^x \\pm i S_i^y$.\n",
    "\n",
    "\n",
    "For reference, the ground state energies of Kitaev model with different lattice sizes are (PBC):\n",
    "\n",
    "| N1 | N2 | GS energy |\n",
    "|---|---|---|\n",
    "|2  | 3 | -0.204172555  |\n",
    "|2  | 4 | -0.2022542475 |\n",
    "|3  | 3 | -0.19849309   |\n",
    "|3  | 4 | -0.198872775  |\n",
    "|2  | 6 | -0.2003512    |"
   ]
  },
  {
   "cell_type": "code",
   "execution_count": 125,
   "metadata": {
    "code_folding": [
     0,
     9,
     23
    ]
   },
   "outputs": [
    {
     "data": {
      "text/plain": [
       "Kitaev (generic function with 1 method)"
      ]
     },
     "execution_count": 125,
     "metadata": {},
     "output_type": "execute_result"
    }
   ],
   "source": [
    "function flip(i::Int, j::Int, tag::Int)\n",
    "    #=Flip the spin on i,j site.\n",
    "    Inputs: tag: tag of a state\n",
    "            i,j: position of spins that are flipped\n",
    "    Output: The tag of new state, type: int =#\n",
    "    mask = 2^(i-1) + 2^(j-1)\n",
    "    return xor(tag, mask)\n",
    "end\n",
    "\n",
    "function findindex(tag::Int, mb::Array{Int,1})\n",
    "    # find the index of tag in a sorted mb\n",
    "    dim = length(mb)\n",
    "    ind = searchsortedfirst(mb, tag)\n",
    "    if ind <= dim\n",
    "        if mb[ind] == tag\n",
    "            return ind\n",
    "        end\n",
    "    else\n",
    "        return -1\n",
    "    end\n",
    "    return -1\n",
    "end\n",
    "\n",
    "function append_data(j::Int, colptr::Int, count::Int, row::Array{Int,1})\n",
    "    point = colptr - 1\n",
    "    for pos = colptr: count\n",
    "        point += 1\n",
    "        if row[pos] == j\n",
    "            return pos, count\n",
    "            break\n",
    "        end\n",
    "    end\n",
    "            \n",
    "    if point == count\n",
    "        return count, count+1\n",
    "    end\n",
    "end\n",
    "\n",
    "function apply_Kitaev(ind::Int, bond::Int, si::Int, K::Array{Float64,1}, la::Lattice)\n",
    "    # apply the ind-th Kitaev term on bond to si state\n",
    "    pos = findposition(ind, la)\n",
    "    nind = index(pos, bond, la)\n",
    "    val = 0.0\n",
    "    if bond == 1\n",
    "        sf = flip(ind, nind, si)\n",
    "        val = K[1] /4\n",
    "    elseif bond == 2\n",
    "        sf = flip(ind, nind, si)\n",
    "        val = -K[2] * (bits(ind, si) - 0.5) * (bits(nind, si) - 0.5)\n",
    "    elseif bond == 3\n",
    "        sf = si\n",
    "        val = K[3] * (bits(ind, si) - 0.5) * (bits(nind, si) - 0.5)\n",
    "    end\n",
    "    return sf, val\n",
    "end\n",
    "\n",
    "function Kitaev(K::Array{Float64,1}, la::Lattice)\n",
    "    dim = dimension(la)\n",
    "    num = sitenum(la)\n",
    "    max = dim * (num + 1)\n",
    "    error = 1.e-8\n",
    "    \n",
    "    col, row, data = zeros(Int, dim+1), zeros(Int, max), zeros(max)\n",
    "    colptr, count = 1, 1\n",
    "    \n",
    "    for si = 0: (dim-1)\n",
    "        col[si+1] = colptr\n",
    "        for ind = 1:2:num, bond = 1:3\n",
    "            sf, val = apply_Kitaev(ind, bond, si, K, la)\n",
    "            if abs(val) > error\n",
    "                pos, count = append_data(sf + 1, colptr, count, row)\n",
    "                row[pos] = sf + 1\n",
    "                data[pos] += val\n",
    "            end\n",
    "        end\n",
    "        colptr = count\n",
    "    end\n",
    "    col[dim + 1] = count\n",
    "    H = SparseMatrixCSC(dim, dim, col, row[1:count-1], data[1:count-1])\n",
    "    H = sparse(H')\n",
    "    return (1/2)*(H + H')\n",
    "end"
   ]
  },
  {
   "cell_type": "code",
   "execution_count": 126,
   "metadata": {
    "code_folding": [
     4
    ]
   },
   "outputs": [
    {
     "data": {
      "text/plain": [
       "Kitaev_T (generic function with 1 method)"
      ]
     },
     "execution_count": 126,
     "metadata": {},
     "output_type": "execute_result"
    }
   ],
   "source": [
    "function findindex(tag::Int, mb::Array{Int,1})\n",
    "    # find the index of tag in a sorted mb\n",
    "    dim = length(mb)\n",
    "    ind = searchsortedfirst(mb, tag)\n",
    "    if ind <= dim\n",
    "        if mb[ind] == tag\n",
    "            return ind\n",
    "        end\n",
    "    else\n",
    "        return -1\n",
    "    end\n",
    "    return -1\n",
    "end\n",
    "\n",
    "function Kitaev_T(K::Array{Float64,1}, k1::Int, k2::Int, mb::SymmetricBasis, la::Lattice)\n",
    "    dim = length(mb.bs)\n",
    "    num = sitenum(la)\n",
    "    max = dim * (num + 1)\n",
    "    error = 1.e-8\n",
    "    \n",
    "    col, row = zeros(Int, dim+1), zeros(Int, max)\n",
    "    data_re, data_im = zeros(max), zeros(max)\n",
    "    colptr, count = 1, 1\n",
    "    \n",
    "    for i = 1: dim\n",
    "        si = mb.bs[i]\n",
    "        col[i] = colptr\n",
    "        for ind = 1:2:num, bond = 1:3\n",
    "            sf, val = apply_Kitaev(ind, bond, si, K, la)\n",
    "            \n",
    "            ref = mb.rs[sf+1]\n",
    "            j = findindex(ref, mb.bs)\n",
    "            if (j > 0) & (abs(val) > error)\n",
    "                val_re = val * mb.na[j]/mb.na[i] * mb.θre[sf+1]\n",
    "                val_im = val * mb.na[j]/mb.na[i] * mb.θim[sf+1]\n",
    "            \n",
    "                if abs(val_re + 1im * val_im) > error\n",
    "                    pos, count = append_data(j, colptr, count, row)\n",
    "                    row[pos] = j\n",
    "                    data_re[pos] += val_re\n",
    "                    data_im[pos] += val_im\n",
    "                end\n",
    "            end\n",
    "        end\n",
    "        colptr = count\n",
    "    end\n",
    "    col[dim+1] = count\n",
    "    data = data_re[1:count-1] + 1im* data_im[1:count-1]\n",
    "    H = SparseMatrixCSC(dim, dim, col, row[1:count-1], data)\n",
    "    H = sparse(H')\n",
    "    return (1/2)*(H + H')\n",
    "end "
   ]
  },
  {
   "cell_type": "markdown",
   "metadata": {},
   "source": [
    "\\subsection{Magnetic field Hamiltonian}\n",
    "\n",
    "The magnetic field Hamiltonian is:\n",
    "\n",
    "\\begin{equation}\n",
    "    H_h = - \\sum_j \\vec{h} \\cdot \\vec{S_j} = - \\sum_{j,\\alpha} h_\\alpha S_j^\\alpha, \\ \\ \\alpha= x, y, z\n",
    "\\end{equation}\n",
    "\n",
    "Using the relations:\n",
    "\\begin{align}\n",
    "    S_j^x & = \\frac{1}{2}( S_j^- + S_j^+ )\\\\\n",
    "    S_j^y & = - \\frac{i}{2} (S_j^+ - S_j^- )\n",
    "\\end{align}"
   ]
  },
  {
   "cell_type": "code",
   "execution_count": 129,
   "metadata": {
    "code_folding": [
     0,
     5,
     17
    ]
   },
   "outputs": [
    {
     "data": {
      "text/plain": [
       "hfield_T (generic function with 1 method)"
      ]
     },
     "execution_count": 129,
     "metadata": {},
     "output_type": "execute_result"
    }
   ],
   "source": [
    "function flip1(i::Integer, tag::Integer)\n",
    "    mask = 2^(i-1)\n",
    "    return xor(tag, mask)\n",
    "end\n",
    "\n",
    "function apply_h(ind::Int, isz::Int, si::Int, h::Array{Float64,1})\n",
    "    val = 0.0im\n",
    "    if isz == 0\n",
    "        sf = flip1(ind, si)\n",
    "        val = -h[1]/2 - 1im * h[2] * (bits(ind, si) - 0.5)\n",
    "    else\n",
    "        sf = si\n",
    "        val = -h[3] * (bits(ind, si) - 0.5)\n",
    "    end\n",
    "    return sf, val      \n",
    "end\n",
    "\n",
    "function hfield(h::Array{Float64,1}, la::Lattice)\n",
    "    dim = dimension(la)\n",
    "    num = sitenum(la)\n",
    "    max = dim * num * 2\n",
    "    error = 1.e-8\n",
    "    \n",
    "    col, row = zeros(Int, dim+1), zeros(Int, max)\n",
    "    data_re, data_im = zeros(max), zeros(max)\n",
    "    colptr, count = 1, 1\n",
    "    \n",
    "    for si = 0: (dim-1)\n",
    "        col[si+1] = colptr\n",
    "        for ind = 1:num, isz = 0:1\n",
    "            sf, val = apply_h(ind, isz, si, h)\n",
    "            if abs(val) > error\n",
    "                pos, count = append_data(sf + 1, colptr, count, row)\n",
    "                row[pos] = sf + 1\n",
    "                data_re[pos] += real(val)\n",
    "                data_im[pos] += imag(val)\n",
    "            end\n",
    "        end\n",
    "        colptr = count\n",
    "    end\n",
    "    col[dim + 1] = count\n",
    "    data = data_re[1: count-1] + 1im * data_im[1: count-1]\n",
    "    return SparseMatrixCSC(dim, dim, col, row[1:count-1], data)\n",
    "end\n",
    "\n",
    "function hfield_T(h::Array{Float64,1}, k1::Int, k2::Int, mb::SymmetricBasis, la::Lattice)\n",
    "    dim = length(mb.bs)\n",
    "    num = sitenum(la)\n",
    "    max = dim * num * 2\n",
    "    error = 1.e-8\n",
    "    \n",
    "    col, row = zeros(Int, dim+1), zeros(Int, max)\n",
    "    data_re, data_im = zeros(max), zeros(max)\n",
    "    colptr, count = 1, 1\n",
    "    \n",
    "    for i = 1: dim\n",
    "        si = mb.bs[i]\n",
    "        col[i] = colptr\n",
    "        for ind = 1:num, isz = 0:1\n",
    "            sf, val = apply_h(ind, isz, si, h)\n",
    "            ref = mb.rs[sf+1]\n",
    "            j = findindex(ref, mb.bs)\n",
    "            if (j > 0) & (abs(val) > error)\n",
    "                θ = mb.θre[sf + 1] + 1im * mb.θim[sf + 1]\n",
    "                val_re = real(val * θ) * mb.na[j]/mb.na[i]\n",
    "                val_im = imag(val * θ) * mb.na[j]/mb.na[i]\n",
    "            \n",
    "                if abs(val_re + 1im * val_im) > error\n",
    "                    pos, count = append_data(j, colptr, count, row)\n",
    "                    row[pos] = j\n",
    "                    data_re[pos] += val_re\n",
    "                    data_im[pos] += val_im\n",
    "                end\n",
    "            end\n",
    "        end\n",
    "        colptr = count\n",
    "    end\n",
    "    col[dim+1] = count\n",
    "    data = data_re[1:count-1] + 1im* data_im[1:count-1]\n",
    "    H = SparseMatrixCSC(dim, dim, col, row[1:count-1], data)\n",
    "    H = sparse(H')\n",
    "    return (1/2)*(H + H')\n",
    "end"
   ]
  },
  {
   "cell_type": "markdown",
   "metadata": {},
   "source": [
    "\\subsection{Heisenberg Hamiltonian}\n",
    "\\begin{equation}\n",
    "    H_J = \\sum_{(j,k), \\alpha} J_\\alpha \\vec{S}_j \\cdot \\vec{S}_k\n",
    "\\end{equation}\n",
    "where $\\alpha = x, y, z$.\n",
    "\n",
    "\\begin{align}\n",
    "    S_i^x S_j^x &= \\frac{1}{4} ( S_i^+ S_j^- + S_i^- S_j^+ + S_i^+ S_j^+ + S_i^- S_j^-)\\\\\n",
    "    S_i^y S_j^y &= \\frac{1}{4} ( S_i^+ S_j^- + S_i^- S_j^+ - S_i^+ S_j^+ - S_i^- S_j^-)\\\\\n",
    "\\end{align}\n",
    "where $S_i^\\pm = S_i^x \\pm i S_i^y$.\n",
    "\n",
    "Here we consider XXZ model, i.e. $J_x = J_y = J_{xy}$. Then the Hamiltonian becomes:\n",
    "\n",
    "\\begin{equation}\n",
    "    H_J = \\sum_{(j,k), \\alpha} [J_z S_j^z S_k^z + \\frac{J_{xy}}{2} (S_i^+ S_j^- + S_i^- S_j^+)]\n",
    "\\end{equation}"
   ]
  },
  {
   "cell_type": "code",
   "execution_count": 9,
   "metadata": {},
   "outputs": [
    {
     "data": {
      "text/plain": [
       "apply_J (generic function with 1 method)"
      ]
     },
     "execution_count": 9,
     "metadata": {},
     "output_type": "execute_result"
    }
   ],
   "source": [
    "function apply_J(ind::Int, bond::Int, isz::Int, si::Int, J::Array{Float64,1}, la::Lattice)\n",
    "    # Nearest neighbor Heisenberg Hamiltonian\n",
    "    pos = findposition(ind, la)\n",
    "    nind = index(pos, bond, la)\n",
    "    val = 0.0\n",
    "    if isz == 1\n",
    "        sf = si\n",
    "        val = J[3] * (bits(ind, si) - 0.5) * (bits(nind, si) - 0.5)\n",
    "    else\n",
    "        sf = flip(ind, nind, si)\n",
    "        val = J[1] /4 - J[2] * (bits(ind, si) - 0.5) * (bits(nind, si) - 0.5)\n",
    "    end\n",
    "    return sf, val\n",
    "end"
   ]
  },
  {
   "cell_type": "code",
   "execution_count": 127,
   "metadata": {},
   "outputs": [
    {
     "data": {
      "text/plain": [
       "HeisenbergJ_T (generic function with 1 method)"
      ]
     },
     "execution_count": 127,
     "metadata": {},
     "output_type": "execute_result"
    }
   ],
   "source": [
    "function HeisenbergJ_T(J::Array{Float64,1}, k1::Int, k2::Int, mb::SymmetricBasis, la::Lattice)\n",
    "    dim = length(mb.bs)\n",
    "    num = sitenum(la)\n",
    "    max = dim * num * 2\n",
    "    error = 1.e-8\n",
    "    \n",
    "    col, row = zeros(Int, dim+1), zeros(Int, max)\n",
    "    data_re, data_im = zeros(max), zeros(max)\n",
    "    colptr, count = 1, 1\n",
    "    \n",
    "    for i = 1: dim\n",
    "        si = mb.bs[i]\n",
    "        col[i] = colptr\n",
    "        for ind = 1:num, bond = 1:3, isz = 0:1\n",
    "            sf, val = apply_J(ind, bond, isz, si, J, la)\n",
    "            ref = mb.rs[sf+1]\n",
    "            j = findindex(ref, mb.bs)\n",
    "            if (j > 0) & (abs(val) > error)\n",
    "                val_re = val * mb.na[j]/mb.na[i] * mb.θre[sf + 1]\n",
    "                val_im = val * mb.na[j]/mb.na[i] * mb.θim[sf + 1]\n",
    "            \n",
    "                if abs(val_re + 1im * val_im) > error\n",
    "                    pos, count = append_data(j, colptr, count, row)\n",
    "                    row[pos] = j\n",
    "                    data_re[pos] += val_re\n",
    "                    data_im[pos] += val_im\n",
    "                end\n",
    "            end\n",
    "        end\n",
    "        colptr = count\n",
    "    end\n",
    "    col[dim+1] = count\n",
    "    data = data_re[1:count-1] + 1im* data_im[1:count-1]\n",
    "    H = SparseMatrixCSC(dim, dim, col, row[1:count-1], data)\n",
    "    H = sparse(H')\n",
    "    return (1/2)*(H + H')\n",
    "end"
   ]
  },
  {
   "cell_type": "markdown",
   "metadata": {},
   "source": [
    "\\section{Physical quantities}\n",
    "\\subsection{Magnetization}"
   ]
  },
  {
   "cell_type": "code",
   "execution_count": 11,
   "metadata": {},
   "outputs": [
    {
     "data": {
      "text/plain": [
       "magnetization (generic function with 1 method)"
      ]
     },
     "execution_count": 11,
     "metadata": {},
     "output_type": "execute_result"
    }
   ],
   "source": [
    "function magnetization(axis::Int, state::Array{<:Number,1}, mb::SymmetricBasis, la::Lattice)\n",
    "    dim = length(mb.bs)\n",
    "    num = sitenum(la)\n",
    "    m = 0.0\n",
    "    error =1.e-8\n",
    "    \n",
    "    for i = 1:dim\n",
    "        si = mb.bs[i]\n",
    "        for ind = 1: num\n",
    "            axis == 3 ? sf = si : sf = flip1(ind, si)\n",
    "            ref = mb.rs[sf + 1]\n",
    "            j = findindex(ref, mb.bs)\n",
    "            if j > 0\n",
    "                θ = mb.θre[sf + 1] + 1im * mb.θim[sf + 1]\n",
    "                fac = θ * mb.na[j]/mb.na[i] * conj(state[j]) * state[i]\n",
    "                if axis == 1\n",
    "                    m += 1/2 * fac\n",
    "                elseif axis == 2\n",
    "                    m += 1im * (bits(ind,si) -0.5)* fac\n",
    "                elseif axis == 3\n",
    "                    m += (bits(ind,si) -0.5)* fac\n",
    "                end\n",
    "            end\n",
    "        end\n",
    "    end\n",
    "    (abs(imag(m)) < error) ? m = real(m) : m = m\n",
    "    return m/num\n",
    "end"
   ]
  },
  {
   "cell_type": "markdown",
   "metadata": {},
   "source": [
    "\\subsection{Spin structure factor}"
   ]
  },
  {
   "cell_type": "code",
   "execution_count": null,
   "metadata": {},
   "outputs": [],
   "source": []
  },
  {
   "cell_type": "markdown",
   "metadata": {},
   "source": [
    "\\subsection{Wilson loop operators}"
   ]
  },
  {
   "cell_type": "code",
   "execution_count": 36,
   "metadata": {},
   "outputs": [],
   "source": [
    "using LinearAlgebra"
   ]
  },
  {
   "cell_type": "code",
   "execution_count": 142,
   "metadata": {},
   "outputs": [
    {
     "data": {
      "text/plain": [
       "true"
      ]
     },
     "execution_count": 142,
     "metadata": {},
     "output_type": "execute_result"
    }
   ],
   "source": [
    "\"\"\"test single Hamiltonian\"\"\"\n",
    "la = Lattice(2,3) ;num = sitenum(la)\n",
    "J = ones(3)\n",
    "K = ones(3)\n",
    "k1 = 0; k2 = 0;\n",
    "    \n",
    "mb = MomBasis(k1, k2, la)\n",
    "dim = length(mb.bs)\n",
    "Hj = Kitaev_T(J, k1, k2, mb, la)\n",
    "Hj == Hj' \n",
    "#e, x = eigs(H, which = :SR, sigma = real)\n",
    "\n",
    "#println(e/num)\n",
    "#println(real(e)/num)\n",
    "#mx = magnetization(1, x[:,1], mb, la)\n",
    "#my = magnetization(2, x[:,1], mb, la)\n",
    "#mz = magnetization(3, x[:,1], mb, la)\n",
    "\n",
    "#mx1 = magnetization(1, x[:,2], mb, la)\n",
    "#my1 = magnetization(2, x[:,2], mb, la)\n",
    "#mz1 = magnetization(3, x[:,2], mb, la)\n",
    "\n",
    "#m = sqrt(mx^2 + my^2 + mz^2)\n",
    "#m1 = sqrt(mx1^2 + my1^2 + mz1^2)\n",
    "#println(mx, \" , \", my, \" , \", mz, \" , \", m)\n",
    "#println(mx1, \" , \", my1, \" , \", mz1, \" , \", m1)\n",
    "#println(\"Finish!\")"
   ]
  },
  {
   "cell_type": "markdown",
   "metadata": {},
   "source": [
    "\\section{Calculations}\n",
    "\\subsection{KSL under (111)-magnetic field}"
   ]
  },
  {
   "cell_type": "code",
   "execution_count": 143,
   "metadata": {},
   "outputs": [
    {
     "name": "stdout",
     "output_type": "stream",
     "text": [
      "Finish h = 0.25\n",
      "Finish h = 0.3\n",
      "Finish h = 0.35\n",
      "Finish h = 0.4\n",
      "Finish h = 0.45\n",
      "Finish h = 0.5\n",
      "Finish all!\n"
     ]
    }
   ],
   "source": [
    "io = open(\"24SiteKitaev.txt\",\"a\")\n",
    "writedlm(io, [\"h\" \"Eg\"])\n",
    "close(io)\n",
    "\n",
    "la = Lattice(3,4); num = sitenum(la)\n",
    "K = ones(3)\n",
    "\n",
    "hmin = 0.25; hmax = 0.5; step = 0.05;\n",
    "total = convert(Int,(hmax - hmin)/step + 1);\n",
    "    \n",
    "for i = hmin:step:hmax\n",
    "    h = i * ones(3)\n",
    "    ek = zeros(num*2)\n",
    "    countk = 0\n",
    "    for k1 = 0: (la.N1-1), k2 = 0: (la.N2-1)\n",
    "        mb = MomBasis(k1, k2, la)\n",
    "        Hk = Kitaev_T(K, k1, k2, mb, la)\n",
    "        Hh = hfield_T(h, k1, k2, mb, la)\n",
    "        H = Hk + Hh\n",
    "        \n",
    "        #check Hermitian\n",
    "        if H != H'\n",
    "            println(\"Non-hermitian matrix\")\n",
    "        end\n",
    "        \n",
    "        e, x = eigs(H, nev = 4, which = :SR)\n",
    "        for k = 1:4\n",
    "            ek[countk + k] = real(e[k])/num\n",
    "        end\n",
    "        countk += 4\n",
    "    end\n",
    "    ek = sort(ek)\n",
    "    \n",
    "    io = open(\"24SiteKitaev.txt\",\"a\")\n",
    "    writedlm(io, [i ek[1]]) \n",
    "    close(io)\n",
    "    \n",
    "    println(\"Finish h = \",i)\n",
    "end\n",
    "println(\"Finish all!\")"
   ]
  },
  {
   "cell_type": "markdown",
   "metadata": {},
   "source": [
    "\\subsection{Phase diagram of Kitaev-Heisenberg model}"
   ]
  },
  {
   "cell_type": "code",
   "execution_count": 145,
   "metadata": {},
   "outputs": [
    {
     "name": "stdout",
     "output_type": "stream",
     "text": [
      "[-0.740998, -0.740998, -0.740998, -0.740998]\n",
      "Finish phi = 46*2pi/N\n",
      "[-0.758254, -0.758254, -0.758254, -0.758253]\n",
      "Finish phi = 47*2pi/N\n",
      "Finish All\n"
     ]
    }
   ],
   "source": [
    "f = open(\"18SiteKH.txt\",\"a\")\n",
    "writedlm(f, [\"phi\" \"Eg\"])\n",
    "close(f)\n",
    "\n",
    "la = Lattice(3,3); num = sitenum(la)\n",
    "\n",
    "N = 91\n",
    "\n",
    "eg = zeros(N+1); phi = zeros(N+1);\n",
    "for i = 46: 47\n",
    "    phi[i] = 2*pi/N * (i-1)\n",
    "    K = 2*sin(phi[i])*ones(3); J = cos(phi[i])*ones(3);\n",
    "    ek = zeros(num*2)\n",
    "    \n",
    "    countk = 0\n",
    "    for k1 = 0: (la.N1-1), k2 = 0: (la.N2-1)\n",
    "        mb = MomBasis(k1, k2, la)\n",
    "        Hk = Kitaev_T(K, k1, k2, mb, la)\n",
    "        Hj = HeisenbergJ_T(J, k1, k2, mb, la)\n",
    "        H = Hk + Hj\n",
    "        \n",
    "        #=\n",
    "        println(\"Check zero columns\")\n",
    "        len = length(H.colptr)-1\n",
    "        for j = 1:len\n",
    "            if H.colptr[j+1]-1 < H.colptr[j]\n",
    "                println(\"zero column: \", j)\n",
    "            end\n",
    "        end\n",
    "        println(\"No zero columns\")\n",
    "        =#\n",
    "        \n",
    "        e, x = eigs(H, nev = 4, which = :SR, maxiter=10000)\n",
    "        for k = 1:4\n",
    "            ek[countk + k] = real(e[k])/num\n",
    "        end\n",
    "        countk += 4\n",
    "    end\n",
    "    ek = sort(ek)\n",
    "    println(ek[1:4])\n",
    "    eg[i] = ek[1]\n",
    "    f = open(\"18SiteKH.txt\",\"a\")\n",
    "    writedlm(f, [phi[i] eg[i]])\n",
    "    close(f)\n",
    "    println(\"Finish phi = \",i, \"*2pi/N\")\n",
    "end\n",
    "println(\"Finish All\")"
   ]
  },
  {
   "cell_type": "code",
   "execution_count": 146,
   "metadata": {},
   "outputs": [
    {
     "data": {
      "image/png": "[encoded data removed]",
      "text/plain": [
       "Figure(PyObject <Figure size 640x480 with 1 Axes>)"
      ]
     },
     "metadata": {},
     "output_type": "display_data"
    },
    {
     "data": {
      "text/plain": [
       "(0, 6.283185307179586)"
      ]
     },
     "execution_count": 146,
     "metadata": {},
     "output_type": "execute_result"
    }
   ],
   "source": [
    "plot(phi, eg)\n",
    "xlim(0, 2*pi)"
   ]
  },
  {
   "cell_type": "code",
   "execution_count": null,
   "metadata": {},
   "outputs": [],
   "source": []
  }
 ],
 "metadata": {
  "kernelspec": {
   "display_name": "Julia 1.1.0",
   "language": "julia",
   "name": "julia-1.1"
  },
  "language_info": {
   "file_extension": ".jl",
   "mimetype": "application/julia",
   "name": "julia",
   "version": "1.1.0"
  },
  "latex_envs": {
   "LaTeX_envs_menu_present": true,
   "autoclose": false,
   "autocomplete": false,
   "bibliofile": "biblio.bib",
   "cite_by": "apalike",
   "current_citInitial": 1,
   "eqLabelWithNumbers": true,
   "eqNumInitial": 1,
   "hotkeys": {
    "equation": "Ctrl-E",
    "itemize": "Ctrl-I"
   },
   "labels_anchors": false,
   "latex_user_defs": false,
   "report_style_numbering": true,
   "user_envs_cfg": false
  },
  "toc": {
   "base_numbering": 1,
   "nav_menu": {},
   "number_sections": true,
   "sideBar": true,
   "skip_h1_title": false,
   "title_cell": "Table of Contents",
   "title_sidebar": "Contents",
   "toc_cell": false,
   "toc_position": {
    "height": "calc(100% - 180px)",
    "left": "10px",
    "top": "150px",
    "width": "307.2px"
   },
   "toc_section_display": true,
   "toc_window_display": false
  }
 },
 "nbformat": 4,
 "nbformat_minor": 2
}
